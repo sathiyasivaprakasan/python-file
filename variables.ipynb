{
  "nbformat": 4,
  "nbformat_minor": 0,
  "metadata": {
    "colab": {
      "provenance": []
    },
    "kernelspec": {
      "name": "python3",
      "display_name": "Python 3"
    },
    "language_info": {
      "name": "python"
    }
  },
  "cells": [
    {
      "cell_type": "code",
      "execution_count": 1,
      "metadata": {
        "colab": {
          "base_uri": "https://localhost:8080/"
        },
        "id": "D3GxA80nUwDV",
        "outputId": "c977b8ed-6519-4b6f-f269-729c9bc8b0f3"
      },
      "outputs": [
        {
          "output_type": "stream",
          "name": "stdout",
          "text": [
            "5\n"
          ]
        }
      ],
      "source": [
        " A =5\n",
        " print(A)"
      ]
    },
    {
      "cell_type": "code",
      "source": [
        "print(\"hello kitty\")"
      ],
      "metadata": {
        "colab": {
          "base_uri": "https://localhost:8080/"
        },
        "id": "Fz9u5Q8jXo26",
        "outputId": "71afbee2-564e-403b-e05d-54e5ca86ee42"
      },
      "execution_count": 2,
      "outputs": [
        {
          "output_type": "stream",
          "name": "stdout",
          "text": [
            "hello kitty\n"
          ]
        }
      ]
    },
    {
      "cell_type": "code",
      "source": [
        "A=int(input())\n",
        "print(A)"
      ],
      "metadata": {
        "colab": {
          "base_uri": "https://localhost:8080/"
        },
        "id": "46XrGaYvXu-5",
        "outputId": "fe293774-0552-4d8e-b13a-6edc1217b32b"
      },
      "execution_count": 3,
      "outputs": [
        {
          "output_type": "stream",
          "name": "stdout",
          "text": [
            "4\n",
            "4\n"
          ]
        }
      ]
    },
    {
      "cell_type": "code",
      "source": [
        "#variable - assign a value or stire a value\n",
        "\n",
        "NAME = \"SATHIYA\"\n",
        "#print(\"I AM \"+NAME)\n",
        "print(\"I AM\",NAME)"
      ],
      "metadata": {
        "colab": {
          "base_uri": "https://localhost:8080/"
        },
        "id": "eHXE2JKuYAPJ",
        "outputId": "510e3b11-fbca-44f6-869e-d204a17a3153"
      },
      "execution_count": 7,
      "outputs": [
        {
          "output_type": "stream",
          "name": "stdout",
          "text": [
            "I AM SATHIYA\n"
          ]
        }
      ]
    },
    {
      "cell_type": "code",
      "source": [
        "NAME=input()\n",
        "print(\"I AM \",NAME)"
      ],
      "metadata": {
        "colab": {
          "base_uri": "https://localhost:8080/"
        },
        "id": "g5ao7xsRZNL4",
        "outputId": "0b56e32e-d459-46e4-b37b-d8e0a890fce9"
      },
      "execution_count": 12,
      "outputs": [
        {
          "output_type": "stream",
          "name": "stdout",
          "text": [
            "sathiya\n",
            "I AM  sathiya\n"
          ]
        }
      ]
    },
    {
      "cell_type": "markdown",
      "source": [
        "types of case\n",
        "camel**C**ase /\n",
        "snake_case /\n",
        "**P**ascal**C**ase"
      ],
      "metadata": {
        "id": "PO9GElkmZ9-4"
      }
    },
    {
      "cell_type": "code",
      "source": [
        "#PascalCase\n",
        "\n",
        "FullName = \"SATHIYA\"\n",
        "print(FullName)"
      ],
      "metadata": {
        "colab": {
          "base_uri": "https://localhost:8080/"
        },
        "id": "QZeoquNnZMGH",
        "outputId": "625c5e1c-ebc2-4469-a1ff-1784f8f4a710"
      },
      "execution_count": 13,
      "outputs": [
        {
          "output_type": "stream",
          "name": "stdout",
          "text": [
            "SATHIYA\n"
          ]
        }
      ]
    },
    {
      "cell_type": "code",
      "source": [
        "#camelCase\n",
        "fullName = \"SATHIYA\"\n",
        "print(fullName)"
      ],
      "metadata": {
        "colab": {
          "base_uri": "https://localhost:8080/"
        },
        "id": "aKlYGDx5afIy",
        "outputId": "83f6449f-e920-4553-b350-67df496e8c89"
      },
      "execution_count": 14,
      "outputs": [
        {
          "output_type": "stream",
          "name": "stdout",
          "text": [
            "SATHIYA\n"
          ]
        }
      ]
    },
    {
      "cell_type": "code",
      "source": [
        "#snake_case\n",
        "full_name = \"SATHIYA\"\n",
        "print(full_name)"
      ],
      "metadata": {
        "colab": {
          "base_uri": "https://localhost:8080/"
        },
        "id": "AgrCpaOKZMRI",
        "outputId": "da16e77a-0df4-46ba-df2a-76a4ab6f9611"
      },
      "execution_count": 15,
      "outputs": [
        {
          "output_type": "stream",
          "name": "stdout",
          "text": [
            "SATHIYA\n"
          ]
        }
      ]
    },
    {
      "cell_type": "code",
      "source": [
        "fullname2=\"SATHIYA\"\n",
        "print(fullname2)"
      ],
      "metadata": {
        "colab": {
          "base_uri": "https://localhost:8080/"
        },
        "id": "hfkAvRP1agEO",
        "outputId": "5458b9d7-01a2-41d8-cc70-0e63a94957cf"
      },
      "execution_count": 16,
      "outputs": [
        {
          "output_type": "stream",
          "name": "stdout",
          "text": [
            "SATHIYA\n"
          ]
        }
      ]
    },
    {
      "cell_type": "code",
      "source": [
        "#one value to many variables\n",
        "a=b=c=\"alpha\"\n",
        "print(a,b,c)"
      ],
      "metadata": {
        "colab": {
          "base_uri": "https://localhost:8080/"
        },
        "id": "ypB3zIrbbgxa",
        "outputId": "bfec9110-98d4-4117-dcb1-a6a7b41ab537"
      },
      "execution_count": 28,
      "outputs": [
        {
          "output_type": "stream",
          "name": "stdout",
          "text": [
            "alpha alpha alpha\n"
          ]
        }
      ]
    },
    {
      "cell_type": "code",
      "source": [
        "a=b=c=\"alpha\"\n",
        "print(a,\"A\")\n",
        "print(b,\"B\")\n",
        "print(c,\"C\")\n"
      ],
      "metadata": {
        "colab": {
          "base_uri": "https://localhost:8080/"
        },
        "id": "rAb3W4f8bguE",
        "outputId": "fb810881-7951-47ab-e7d6-fd4f761a1cac"
      },
      "execution_count": 21,
      "outputs": [
        {
          "output_type": "stream",
          "name": "stdout",
          "text": [
            "alpha A\n",
            "alpha B\n",
            "alpha C\n"
          ]
        }
      ]
    },
    {
      "cell_type": "code",
      "source": [
        "#many values to many variables\n",
        "A,B,C=\"alpha\",\"beta\",\"gamma\"\n",
        "print(A,B,C)"
      ],
      "metadata": {
        "colab": {
          "base_uri": "https://localhost:8080/"
        },
        "id": "s-0rfxizbgrt",
        "outputId": "a6fabef1-eef6-41a9-f2e9-f197a4342831"
      },
      "execution_count": 27,
      "outputs": [
        {
          "output_type": "stream",
          "name": "stdout",
          "text": [
            "alpha beta gamma\n"
          ]
        }
      ]
    },
    {
      "cell_type": "code",
      "source": [
        "A,B,C=\"alpha\",\"beta\",\"gamma\"\n",
        "print(A,B,C,sep=\",\")"
      ],
      "metadata": {
        "colab": {
          "base_uri": "https://localhost:8080/"
        },
        "id": "bRw920Etbgo6",
        "outputId": "fd415d57-186c-42b2-a488-2211d7b08b79"
      },
      "execution_count": 23,
      "outputs": [
        {
          "output_type": "stream",
          "name": "stdout",
          "text": [
            "alpha,beta,gamma\n"
          ]
        }
      ]
    },
    {
      "cell_type": "code",
      "source": [
        "A,B,C=\"alpha\",\"beta\",\"gamma\"\n",
        "print(A,B,C,sep=\"\\n\")"
      ],
      "metadata": {
        "colab": {
          "base_uri": "https://localhost:8080/"
        },
        "id": "ZmLkf91jbgmL",
        "outputId": "e9f41b42-d1a3-4fac-af0f-c416724015e6"
      },
      "execution_count": 24,
      "outputs": [
        {
          "output_type": "stream",
          "name": "stdout",
          "text": [
            "alpha\n",
            "beta\n",
            "gamma\n"
          ]
        }
      ]
    }
  ]
}