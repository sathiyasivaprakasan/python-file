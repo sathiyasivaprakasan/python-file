{
  "nbformat": 4,
  "nbformat_minor": 0,
  "metadata": {
    "colab": {
      "provenance": []
    },
    "kernelspec": {
      "name": "python3",
      "display_name": "Python 3"
    },
    "language_info": {
      "name": "python"
    }
  },
  "cells": [
    {
      "cell_type": "code",
      "execution_count": null,
      "metadata": {
        "id": "L50oVQ4qjWLR"
      },
      "outputs": [],
      "source": [
        "# Data Types\n",
        "\n",
        "# Text Type : str\n",
        "# Numeric Types : int, float, complex\n",
        "# Sequence Types : list, tuple, range\n",
        "# Mapping Type : dict\n",
        "# Set Type : set\n",
        "# boolean Type : bool"
      ]
    },
    {
      "cell_type": "code",
      "source": [
        "check = 10\n",
        "print(type(check))"
      ],
      "metadata": {
        "colab": {
          "base_uri": "https://localhost:8080/"
        },
        "id": "lGaMN0khkJ--",
        "outputId": "26269aff-10b2-4bec-8b62-af5f82cfb9f8"
      },
      "execution_count": 1,
      "outputs": [
        {
          "output_type": "stream",
          "name": "stdout",
          "text": [
            "<class 'int'>\n"
          ]
        }
      ]
    },
    {
      "cell_type": "code",
      "source": [
        "check = \"S\"\n",
        "print(type(check))"
      ],
      "metadata": {
        "colab": {
          "base_uri": "https://localhost:8080/"
        },
        "id": "Xp3Pd9gJkKKv",
        "outputId": "5ebf838f-efc7-4a05-e32c-af14d698d973"
      },
      "execution_count": 2,
      "outputs": [
        {
          "output_type": "stream",
          "name": "stdout",
          "text": [
            "<class 'str'>\n"
          ]
        }
      ]
    },
    {
      "cell_type": "code",
      "source": [
        "check = 56.56\n",
        "print(type(check))"
      ],
      "metadata": {
        "colab": {
          "base_uri": "https://localhost:8080/"
        },
        "id": "I_R9qW1VkKP8",
        "outputId": "78598335-3523-4b95-a40f-4a0f3dd34482"
      },
      "execution_count": 3,
      "outputs": [
        {
          "output_type": "stream",
          "name": "stdout",
          "text": [
            "<class 'float'>\n"
          ]
        }
      ]
    },
    {
      "cell_type": "code",
      "source": [
        "check = 90.0\n",
        "print(type(check))"
      ],
      "metadata": {
        "colab": {
          "base_uri": "https://localhost:8080/"
        },
        "id": "CN3pmVyykKVZ",
        "outputId": "ee47da03-7414-4083-fd12-be004a97c4c7"
      },
      "execution_count": 4,
      "outputs": [
        {
          "output_type": "stream",
          "name": "stdout",
          "text": [
            "<class 'float'>\n"
          ]
        }
      ]
    },
    {
      "cell_type": "code",
      "source": [
        "check =1+2j\n",
        "print(check)\n",
        "print(type(check))"
      ],
      "metadata": {
        "colab": {
          "base_uri": "https://localhost:8080/"
        },
        "id": "_EAPLEkGkKcD",
        "outputId": "ca76d28f-05de-4ad1-ffba-ffeb01138f37"
      },
      "execution_count": 5,
      "outputs": [
        {
          "output_type": "stream",
          "name": "stdout",
          "text": [
            "(1+2j)\n",
            "<class 'complex'>\n"
          ]
        }
      ]
    },
    {
      "cell_type": "code",
      "source": [
        "check =1+2j+2+1-2\n",
        "print(check)\n",
        "print(type(check))"
      ],
      "metadata": {
        "colab": {
          "base_uri": "https://localhost:8080/"
        },
        "id": "2Rp3hsWYkKe8",
        "outputId": "6f665323-5e16-4b33-938b-c9cad78c60f1"
      },
      "execution_count": 7,
      "outputs": [
        {
          "output_type": "stream",
          "name": "stdout",
          "text": [
            "(2+2j)\n",
            "<class 'complex'>\n"
          ]
        }
      ]
    },
    {
      "cell_type": "code",
      "source": [
        "check =[1,2,3,4,5]\n",
        "print(check)\n",
        "print(type(check))"
      ],
      "metadata": {
        "colab": {
          "base_uri": "https://localhost:8080/"
        },
        "id": "htgnT9UNkKiA",
        "outputId": "19277751-df33-499c-cd44-2ec7ecd3c9ba"
      },
      "execution_count": 8,
      "outputs": [
        {
          "output_type": "stream",
          "name": "stdout",
          "text": [
            "[1, 2, 3, 4, 5]\n",
            "<class 'list'>\n"
          ]
        }
      ]
    },
    {
      "cell_type": "code",
      "source": [
        "check = (1,2,3,4,5)\n",
        "print(check)\n",
        "print(type(check))"
      ],
      "metadata": {
        "colab": {
          "base_uri": "https://localhost:8080/"
        },
        "id": "wOtJK7JAkKlF",
        "outputId": "63f6ef11-0e8d-4f33-b472-758db70846a4"
      },
      "execution_count": 9,
      "outputs": [
        {
          "output_type": "stream",
          "name": "stdout",
          "text": [
            "(1, 2, 3, 4, 5)\n",
            "<class 'tuple'>\n"
          ]
        }
      ]
    },
    {
      "cell_type": "code",
      "source": [
        "check = {1,2,3,4,5}\n",
        "print(check)\n",
        "print(type(check))"
      ],
      "metadata": {
        "colab": {
          "base_uri": "https://localhost:8080/"
        },
        "id": "f03Qaj9QkKoE",
        "outputId": "48993065-658e-4836-e828-818ca37b2f62"
      },
      "execution_count": 10,
      "outputs": [
        {
          "output_type": "stream",
          "name": "stdout",
          "text": [
            "{1, 2, 3, 4, 5}\n",
            "<class 'set'>\n"
          ]
        }
      ]
    },
    {
      "cell_type": "code",
      "source": [
        "check = {1:2,3:4,5:6}\n",
        "print(check)\n",
        "print(type(check))"
      ],
      "metadata": {
        "colab": {
          "base_uri": "https://localhost:8080/"
        },
        "id": "DEVMSVnqkKrR",
        "outputId": "43e964c9-a09c-4ddf-b5c9-a29e194cc96a"
      },
      "execution_count": 11,
      "outputs": [
        {
          "output_type": "stream",
          "name": "stdout",
          "text": [
            "{1: 2, 3: 4, 5: 6}\n",
            "<class 'dict'>\n"
          ]
        }
      ]
    },
    {
      "cell_type": "code",
      "source": [
        "check = True\n",
        "print(check)\n",
        "print(type(check))"
      ],
      "metadata": {
        "colab": {
          "base_uri": "https://localhost:8080/"
        },
        "id": "zF-DIybpkKt5",
        "outputId": "11b97158-0398-4eca-92ab-6f81f32f0804"
      },
      "execution_count": 12,
      "outputs": [
        {
          "output_type": "stream",
          "name": "stdout",
          "text": [
            "True\n",
            "<class 'bool'>\n"
          ]
        }
      ]
    },
    {
      "cell_type": "code",
      "source": [
        "check = range(20)\n",
        "print(check)\n",
        "print(type(check))"
      ],
      "metadata": {
        "colab": {
          "base_uri": "https://localhost:8080/"
        },
        "id": "MEP77U5QlzcT",
        "outputId": "f657802a-488d-4d9d-b159-8a52325f56b8"
      },
      "execution_count": 13,
      "outputs": [
        {
          "output_type": "stream",
          "name": "stdout",
          "text": [
            "range(0, 20)\n",
            "<class 'range'>\n"
          ]
        }
      ]
    },
    {
      "cell_type": "code",
      "source": [
        "check = range(2,20)\n",
        "print(check)\n",
        "print(type(check))"
      ],
      "metadata": {
        "colab": {
          "base_uri": "https://localhost:8080/"
        },
        "id": "H1Nwz3qFl_Wz",
        "outputId": "8856f685-c02f-4f5b-8d43-c7dbb4b64695"
      },
      "execution_count": 14,
      "outputs": [
        {
          "output_type": "stream",
          "name": "stdout",
          "text": [
            "range(2, 20)\n",
            "<class 'range'>\n"
          ]
        }
      ]
    },
    {
      "cell_type": "code",
      "source": [
        "a=2\n",
        "b=3\n",
        "c=a+b\n",
        "print(c)"
      ],
      "metadata": {
        "colab": {
          "base_uri": "https://localhost:8080/"
        },
        "id": "0T9VLFmMolf8",
        "outputId": "ccf04e29-969f-4338-f0d8-d3853ee03ae2"
      },
      "execution_count": 17,
      "outputs": [
        {
          "output_type": "stream",
          "name": "stdout",
          "text": [
            "5\n"
          ]
        }
      ]
    },
    {
      "cell_type": "code",
      "source": [
        "a=4\n",
        "b=4\n",
        "c=a,b\n",
        "print(c)"
      ],
      "metadata": {
        "colab": {
          "base_uri": "https://localhost:8080/"
        },
        "id": "T9eaQiFOpC20",
        "outputId": "28aeab37-d980-407d-8910-2504b30e31aa"
      },
      "execution_count": 18,
      "outputs": [
        {
          "output_type": "stream",
          "name": "stdout",
          "text": [
            "(4, 4)\n"
          ]
        }
      ]
    },
    {
      "cell_type": "code",
      "source": [
        "a=4\n",
        "b=4\n",
        "c=a%b\n",
        "print(c)"
      ],
      "metadata": {
        "colab": {
          "base_uri": "https://localhost:8080/"
        },
        "id": "pEZ2ke10pCzW",
        "outputId": "6769f29b-31b7-463a-a82f-a8f7c269dd7f"
      },
      "execution_count": 19,
      "outputs": [
        {
          "output_type": "stream",
          "name": "stdout",
          "text": [
            "0\n"
          ]
        }
      ]
    },
    {
      "cell_type": "code",
      "source": [
        "a=\"esec\"\n",
        "b=\"vit\"\n",
        "c=a+b\n",
        "print(c)"
      ],
      "metadata": {
        "colab": {
          "base_uri": "https://localhost:8080/"
        },
        "id": "PV1ryRwnpCwq",
        "outputId": "10bf8dec-eba9-4b6c-fb41-28c0764095ef"
      },
      "execution_count": 25,
      "outputs": [
        {
          "output_type": "stream",
          "name": "stdout",
          "text": [
            "esecvit\n"
          ]
        }
      ]
    },
    {
      "cell_type": "code",
      "source": [
        "a=int(input(\"enter the first number\"))\n",
        "b=int(input(\"enter the second number\"))\n",
        "c=a+b\n",
        "print(\"total :\",c)"
      ],
      "metadata": {
        "colab": {
          "base_uri": "https://localhost:8080/"
        },
        "id": "tj7-YWd-pCuK",
        "outputId": "ad2be7ea-3050-4a41-e07b-f59d16ad8afe"
      },
      "execution_count": 28,
      "outputs": [
        {
          "output_type": "stream",
          "name": "stdout",
          "text": [
            "enter the first number3\n",
            "enter the second number3\n",
            "total : 6\n"
          ]
        }
      ]
    },
    {
      "cell_type": "code",
      "source": [
        "a=input(\"enter the first number\")\n",
        "b=input(\"enter the second number\")\n",
        "c=a+b\n",
        "print(c)"
      ],
      "metadata": {
        "colab": {
          "base_uri": "https://localhost:8080/"
        },
        "id": "bPr4RemVpCrq",
        "outputId": "eb59cf4b-67a5-43d9-bc74-978cb1c848eb"
      },
      "execution_count": 29,
      "outputs": [
        {
          "output_type": "stream",
          "name": "stdout",
          "text": [
            "enter the first number3\n",
            "enter the second number2\n",
            "32\n"
          ]
        }
      ]
    },
    {
      "cell_type": "code",
      "source": [
        "a=input(\"enter the first number\")\n",
        "b=input(\"enter the second number\")\n",
        "c=a+b\n",
        "print(c)\n"
      ],
      "metadata": {
        "colab": {
          "base_uri": "https://localhost:8080/"
        },
        "id": "OIRwD4-2pCo9",
        "outputId": "65ac4f94-869d-490f-9a11-2c66ede73d40"
      },
      "execution_count": 31,
      "outputs": [
        {
          "output_type": "stream",
          "name": "stdout",
          "text": [
            "enter the first numbersat\n",
            "enter the second numberhiya\n",
            "sathiya\n"
          ]
        }
      ]
    },
    {
      "cell_type": "code",
      "source": [],
      "metadata": {
        "id": "xzESZ-fbpCmJ"
      },
      "execution_count": null,
      "outputs": []
    },
    {
      "cell_type": "code",
      "source": [],
      "metadata": {
        "id": "b2xWjygzpCjD"
      },
      "execution_count": null,
      "outputs": []
    },
    {
      "cell_type": "code",
      "source": [],
      "metadata": {
        "id": "3XspUanupCgH"
      },
      "execution_count": null,
      "outputs": []
    }
  ]
}