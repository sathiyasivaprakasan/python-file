{
  "nbformat": 4,
  "nbformat_minor": 0,
  "metadata": {
    "colab": {
      "provenance": []
    },
    "kernelspec": {
      "name": "python3",
      "display_name": "Python 3"
    },
    "language_info": {
      "name": "python"
    }
  },
  "cells": [
    {
      "cell_type": "code",
      "source": [
        "from os import set_blocking\n",
        "\n",
        "#CONTROL STATEMENT\n",
        "#IF\n",
        "#if...else\n",
        "#nested if...else\n",
        "#ladder if....else\n",
        "\n",
        "\n",
        "#match stm\n",
        "#ternary operator\n",
        "\n",
        "#if syntax\n",
        "\n",
        "if (tc):\n",
        "  sb\n",
        "if - tc - t - op\n",
        "if - tc - f - empty screen\n",
        "\n",
        "#if...else\n",
        "if (tc):\n",
        "  sb\n",
        "else:\n",
        "  sb\n",
        "if - tc - t - op\n",
        "if - tc - f - else - op\n",
        "\n",
        "#ladder\n",
        "\n",
        "if...else - n number of tc process\n",
        "if tc1:\n",
        "  sb\n",
        "elif tc2:\n",
        "  sb\n",
        "elif tc3:\n",
        "  sb\n",
        "else:\n",
        "  output\n",
        "\n",
        "#nested if...else\n",
        "if tc1:\n",
        "  if tc2:\n",
        "    else:\n",
        "      sb\n",
        "else:\n",
        "  if tc3:\n",
        "    sb\n",
        "  else:\n",
        "    sb"
      ],
      "metadata": {
        "id": "AU2rgPfcj0nO"
      },
      "execution_count": null,
      "outputs": []
    },
    {
      "cell_type": "code",
      "source": [
        "mark = int(input(\"enter the mark : \"))\n",
        "if mark>=35:\n",
        "  print(\"pass\")\n",
        "\n",
        "if mark<35:\n",
        "  print(\"fail\")"
      ],
      "metadata": {
        "colab": {
          "base_uri": "https://localhost:8080/"
        },
        "id": "GXEeX77cYd58",
        "outputId": "7824043b-d2e8-4653-f39d-67b8ec747239"
      },
      "execution_count": 5,
      "outputs": [
        {
          "output_type": "stream",
          "name": "stdout",
          "text": [
            "enter the mark : 25\n",
            "fail\n"
          ]
        }
      ]
    },
    {
      "cell_type": "code",
      "source": [
        "mark = int(input(\"enter the mark : \"))\n",
        "if mark>=35:\n",
        "  print(\"pass\")\n",
        "else:\n",
        "  print(\"fail\")"
      ],
      "metadata": {
        "colab": {
          "base_uri": "https://localhost:8080/"
        },
        "id": "RbrQa_HbYfGw",
        "outputId": "fae21d1f-e01b-4319-e560-9054915fe74d"
      },
      "execution_count": 7,
      "outputs": [
        {
          "output_type": "stream",
          "name": "stdout",
          "text": [
            "enter the mark : 78\n",
            "pass\n"
          ]
        }
      ]
    },
    {
      "cell_type": "code",
      "source": [
        "stu_1=int(input(\"enter the mark : \"))\n",
        "stu_2=int(input(\"enter the mark :\"))\n",
        "\n",
        "if stu_1>35 and stu_2<=35:\n",
        "  print(\"pass\")\n",
        "else:\n",
        "  print(\"fail\")\n",
        "\n"
      ],
      "metadata": {
        "colab": {
          "base_uri": "https://localhost:8080/"
        },
        "id": "bxBaU-IGa93Y",
        "outputId": "6f2e2727-9b2b-42d0-c9ea-59cfbad9fd82"
      },
      "execution_count": 9,
      "outputs": [
        {
          "output_type": "stream",
          "name": "stdout",
          "text": [
            "enter the mark : 45\n",
            "enter the mark :56\n",
            "fail\n"
          ]
        }
      ]
    },
    {
      "cell_type": "code",
      "source": [
        "stu_1=int(input(\"enter the mark : \"))\n",
        "stu_2=int(input(\"enter the mark :\"))\n",
        "\n",
        "if stu_1>35 and stu_2<=35:\n",
        "  print(\"pass\")\n",
        "else:\n",
        "  print(\"fail\")\n"
      ],
      "metadata": {
        "colab": {
          "base_uri": "https://localhost:8080/"
        },
        "id": "2QttYhA5a9z6",
        "outputId": "4778f3cc-de30-48e0-8bd6-16d845ac92b7"
      },
      "execution_count": 10,
      "outputs": [
        {
          "output_type": "stream",
          "name": "stdout",
          "text": [
            "enter the mark : 45\n",
            "enter the mark :32\n",
            "pass\n"
          ]
        }
      ]
    },
    {
      "cell_type": "code",
      "source": [
        "stu_1=int(input(\"enter the mark : \"))\n",
        "stu_2=int(input(\"enter the mark :\"))\n",
        "\n",
        "if stu_1>35 or stu_2<=35:\n",
        "  print(\"pass\")\n",
        "else:\n",
        "  print(\"fail\")\n"
      ],
      "metadata": {
        "colab": {
          "base_uri": "https://localhost:8080/"
        },
        "id": "i6Nq-PaHa9xh",
        "outputId": "f0965020-a73f-428c-8fe0-d6f80758fd63"
      },
      "execution_count": 12,
      "outputs": [
        {
          "output_type": "stream",
          "name": "stdout",
          "text": [
            "enter the mark : 36\n",
            "enter the mark :45\n",
            "pass\n"
          ]
        }
      ]
    },
    {
      "cell_type": "code",
      "source": [
        "stu_1=int(input(\"enter the mark : \"))\n",
        "stu_2=int(input(\"enter the mark :\"))\n",
        "\n",
        "if stu_1!=35 and stu_2<=35:\n",
        "  print(\"pass\")\n",
        "else:\n",
        "  print(\"fail\")\n"
      ],
      "metadata": {
        "colab": {
          "base_uri": "https://localhost:8080/"
        },
        "id": "MktYZoQ-a9vJ",
        "outputId": "04696e74-27c5-4669-c003-e5abc7be627d"
      },
      "execution_count": 13,
      "outputs": [
        {
          "output_type": "stream",
          "name": "stdout",
          "text": [
            "enter the mark : 35\n",
            "enter the mark :25\n",
            "fail\n"
          ]
        }
      ]
    },
    {
      "cell_type": "code",
      "source": [
        "age = int(input(\"enter the age : \"))\n",
        "if age!=10:\n",
        "  print(\"eligible\")\n",
        "else:\n",
        "  print(\"not eligible\")"
      ],
      "metadata": {
        "colab": {
          "base_uri": "https://localhost:8080/"
        },
        "id": "xQz5cl1Ma9sW",
        "outputId": "5e162346-925b-48b2-b7a7-d5e46911802a"
      },
      "execution_count": 14,
      "outputs": [
        {
          "output_type": "stream",
          "name": "stdout",
          "text": [
            "enter the age : 18\n",
            "eligible\n"
          ]
        }
      ]
    },
    {
      "cell_type": "code",
      "source": [
        "num=int(input(\"enter the number : \"))\n",
        "if num%2==0:\n",
        "  print(\"even\")\n",
        "else:\n",
        "  print(\"odd\")"
      ],
      "metadata": {
        "colab": {
          "base_uri": "https://localhost:8080/"
        },
        "id": "7vDWw0-pa9pl",
        "outputId": "84b840d6-b168-4219-89a5-0d4d8385038f"
      },
      "execution_count": 15,
      "outputs": [
        {
          "output_type": "stream",
          "name": "stdout",
          "text": [
            "enter the number : 45\n",
            "odd\n"
          ]
        }
      ]
    },
    {
      "cell_type": "code",
      "source": [
        "year=int(input(\"enter the year : \"))\n",
        "if year%4==0:\n",
        "  print(\"leap year\")\n",
        "else:\n",
        "  print(\"not a leap year\")"
      ],
      "metadata": {
        "colab": {
          "base_uri": "https://localhost:8080/"
        },
        "id": "6YMlh_Yya9nE",
        "outputId": "462daa62-7563-4351-b125-1630bec553c2"
      },
      "execution_count": 17,
      "outputs": [
        {
          "output_type": "stream",
          "name": "stdout",
          "text": [
            "enter the year : 2024\n",
            "leap year\n"
          ]
        }
      ]
    },
    {
      "cell_type": "code",
      "source": [
        "a=int(input(\"enter the number : \"))\n",
        "b=int(input(\"enter the number : \"))\n",
        "if a<b and a!=b:\n",
        "  print(\"b is greater\")\n",
        "else:\n",
        "  print(\"a is greater\")"
      ],
      "metadata": {
        "colab": {
          "base_uri": "https://localhost:8080/"
        },
        "id": "eqt3vbmja9j_",
        "outputId": "926b2aca-2b31-4e6e-bc89-42015e45fd21"
      },
      "execution_count": 21,
      "outputs": [
        {
          "output_type": "stream",
          "name": "stdout",
          "text": [
            "enter the number : 3\n",
            "enter the number : 3\n",
            "a is greater\n"
          ]
        }
      ]
    },
    {
      "cell_type": "code",
      "source": [
        "letter=input(\"enter a letter\")\n",
        "if letter==\"A\" or letter==\"F\":\n",
        "  print(\"vowel\")\n",
        "else:\n",
        "  print(\"consonant\")\n"
      ],
      "metadata": {
        "colab": {
          "base_uri": "https://localhost:8080/"
        },
        "id": "L_ni9bN0a9hp",
        "outputId": "b7fdf67f-c55f-42ff-8209-7ecdffbc44b6"
      },
      "execution_count": 26,
      "outputs": [
        {
          "output_type": "stream",
          "name": "stdout",
          "text": [
            "enter a letterA\n",
            "vowel\n"
          ]
        }
      ]
    },
    {
      "cell_type": "code",
      "source": [
        "letter = input(\"enter a letter : \")\n",
        "if letter==\"a\" or letter==\"e\" or letter==\"i\" or letter==\"o\" or letter==\"u\":\n",
        "  print(\"vowel\")\n",
        "else:\n",
        "  print(\"consonant\")"
      ],
      "metadata": {
        "colab": {
          "base_uri": "https://localhost:8080/"
        },
        "id": "ZSvkLAe2a9fO",
        "outputId": "47b5450d-cea8-4d24-a778-39c6905e5efa"
      },
      "execution_count": 27,
      "outputs": [
        {
          "output_type": "stream",
          "name": "stdout",
          "text": [
            "enter a letter : e\n",
            "vowel\n"
          ]
        }
      ]
    },
    {
      "cell_type": "code",
      "source": [
        "num=int(input(\"enter the number : \"))\n",
        "if num>0:\n",
        "  print(\"positive\")\n",
        "elif num<0:\n",
        "  print(\"negative\")\n",
        "elif num==0:\n",
        "  print(\"zero\")\n"
      ],
      "metadata": {
        "colab": {
          "base_uri": "https://localhost:8080/"
        },
        "id": "FSkljtcla9co",
        "outputId": "4968f12c-7a96-4634-dda9-9bb0a37e1665"
      },
      "execution_count": 31,
      "outputs": [
        {
          "output_type": "stream",
          "name": "stdout",
          "text": [
            "enter the number : -1\n",
            "negative\n"
          ]
        }
      ]
    },
    {
      "cell_type": "code",
      "source": [
        "a=int(input(\"enter the number : \"))\n",
        "b=int(input(\"enter the number : \"))\n",
        "c=int(input(\"enter the number : \"))\n",
        "\n",
        "if a>b and a>c:\n",
        "  print(\"a is biggest number\")\n",
        "elif b>a and b>c:\n",
        "  print(\"b is biggest number\")\n",
        "elif c>a and c>b:\n",
        "  print(\"c is biggest number\")\n",
        "else:\n",
        "  print(\"a,b,c=same value\")"
      ],
      "metadata": {
        "colab": {
          "base_uri": "https://localhost:8080/"
        },
        "id": "18nmKqyga9Z7",
        "outputId": "c9aa2ba5-79da-4131-b2d1-04ed196b2bde"
      },
      "execution_count": 42,
      "outputs": [
        {
          "output_type": "stream",
          "name": "stdout",
          "text": [
            "enter the number : 20\n",
            "enter the number : 20\n",
            "enter the number : 20\n",
            "a,b,c=same value\n"
          ]
        }
      ]
    },
    {
      "cell_type": "code",
      "source": [
        "a=int(input(\"enter the value A :\"))\n",
        "b=int(input(\"enter the value B :\"))\n",
        "c=int(input(\"enter the value C :\"))\n",
        "\n",
        "if (a>b):\n",
        "  if(a>c):\n",
        "    print(\"a is the greatest\")\n",
        "  else:\n",
        "    print(\"c is the greatest\")\n",
        "else:\n",
        "  if (b>a):\n",
        "    print(\"b is the greatest\")\n",
        "  else:\n",
        "    print(\"c is the greatest\")\n",
        "if c>a:\n",
        "  if c>b:\n",
        "    print(\"c is the greatest\")\n",
        "  else:\n",
        "    print(\"b is the greatest\")\n",
        "else:\n",
        "  print(\"error\")\n",
        "\n"
      ],
      "metadata": {
        "colab": {
          "base_uri": "https://localhost:8080/"
        },
        "id": "6m_IBxJJk0za",
        "outputId": "b55144fb-3951-4eb7-b4f8-f8b056286ecb"
      },
      "execution_count": 47,
      "outputs": [
        {
          "output_type": "stream",
          "name": "stdout",
          "text": [
            "enter the value A :10\n",
            "enter the value B :20\n",
            "enter the value C :30\n",
            "b is the greatest\n",
            "c is the greatest\n"
          ]
        }
      ]
    },
    {
      "cell_type": "code",
      "source": [
        "a= int(input(\"enter the value\"))\n",
        "b=int(input(\"enter the value\"))\n",
        "c=int(input(\"enter the value\"))\n",
        "\n",
        "if a>b:\n",
        "  if a>c:\n",
        "    print(\"a is big\")\n",
        "  else:\n",
        "    print(\"c is big\")\n",
        "else:\n",
        "  if b>c:\n",
        "    print(\"b is big\")\n",
        "  else:\n",
        "    print(\"c is big\")\n",
        "if c>a:\n",
        "  print(\"c is big\")\n",
        "else:\n",
        "  print(\"a is big\")"
      ],
      "metadata": {
        "colab": {
          "base_uri": "https://localhost:8080/"
        },
        "id": "Y8jv0k5OniMk",
        "outputId": "5754da39-9445-4275-ec15-7860c1abd6fe"
      },
      "execution_count": 48,
      "outputs": [
        {
          "output_type": "stream",
          "name": "stdout",
          "text": [
            "enter the value10\n",
            "enter the value20\n",
            "enter the value5\n",
            "b is big\n",
            "a is big\n"
          ]
        }
      ]
    }
  ]
}