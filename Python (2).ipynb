{
  "nbformat": 4,
  "nbformat_minor": 0,
  "metadata": {
    "colab": {
      "provenance": []
    },
    "kernelspec": {
      "name": "python3",
      "display_name": "Python 3"
    },
    "language_info": {
      "name": "python"
    }
  },
  "cells": [
    {
      "cell_type": "code",
      "execution_count": null,
      "metadata": {
        "colab": {
          "base_uri": "https://localhost:8080/"
        },
        "id": "48cKH6KFW0Uj",
        "outputId": "64d3eaf0-7cf0-4605-ac6e-a94dd10d3880"
      },
      "outputs": [
        {
          "output_type": "stream",
          "name": "stdout",
          "text": [
            "3.12.11 (main, Jun  4 2025, 08:56:18) [GCC 11.4.0]\n"
          ]
        }
      ],
      "source": [
        "import sys\n",
        "print(sys.version)"
      ]
    },
    {
      "cell_type": "code",
      "source": [
        "print(\"Welcome To ESEC\")"
      ],
      "metadata": {
        "colab": {
          "base_uri": "https://localhost:8080/"
        },
        "id": "2Fyo_RrLXGB0",
        "outputId": "95df6491-695e-4711-810d-579235dae012"
      },
      "execution_count": null,
      "outputs": [
        {
          "output_type": "stream",
          "name": "stdout",
          "text": [
            "Welcome To ESEC\n"
          ]
        }
      ]
    },
    {
      "cell_type": "code",
      "source": [
        "# variable - asign a value or store the value\n",
        "NAME =\"SATHIYA\"\n",
        "print(\"i am\",NAME)\n",
        "print(\"i am \" + NAME)"
      ],
      "metadata": {
        "colab": {
          "base_uri": "https://localhost:8080/"
        },
        "id": "aLMX-Ky9Xf-q",
        "outputId": "d394fffd-d2c2-459b-ca50-5e470a8ab0f3"
      },
      "execution_count": null,
      "outputs": [
        {
          "output_type": "stream",
          "name": "stdout",
          "text": [
            "i am SATHIYA\n",
            "i am SATHIYA\n"
          ]
        }
      ]
    },
    {
      "cell_type": "code",
      "source": [
        "fullname = \"siva prakasan\"\n",
        "print(fullname)"
      ],
      "metadata": {
        "colab": {
          "base_uri": "https://localhost:8080/"
        },
        "id": "i7YU1OLLYe0A",
        "outputId": "b95942a7-1498-446e-a37b-4f30f3186560"
      },
      "execution_count": null,
      "outputs": [
        {
          "output_type": "stream",
          "name": "stdout",
          "text": [
            "siva prakasan\n"
          ]
        }
      ]
    },
    {
      "cell_type": "code",
      "source": [
        "fullName = \"thamarai kannan\"\n",
        "print(fullName)"
      ],
      "metadata": {
        "colab": {
          "base_uri": "https://localhost:8080/"
        },
        "id": "-86Zwh2JZiVx",
        "outputId": "c4231acb-0d91-46cd-b313-edadca5eeb18"
      },
      "execution_count": null,
      "outputs": [
        {
          "output_type": "stream",
          "name": "stdout",
          "text": [
            "thamarai kannan\n"
          ]
        }
      ]
    },
    {
      "cell_type": "code",
      "source": [
        "FullName = \"Helan hencida\"\n",
        "print(FullName)"
      ],
      "metadata": {
        "colab": {
          "base_uri": "https://localhost:8080/"
        },
        "id": "2IwdzODEZoGs",
        "outputId": "27f79c1b-d3aa-49ec-f823-c96107b8db8f"
      },
      "execution_count": null,
      "outputs": [
        {
          "output_type": "stream",
          "name": "stdout",
          "text": [
            "Helan hencida\n"
          ]
        }
      ]
    },
    {
      "cell_type": "code",
      "source": [
        "full_name = \"siva prakasan\"\n",
        "print(full_name)"
      ],
      "metadata": {
        "colab": {
          "base_uri": "https://localhost:8080/"
        },
        "id": "O3Y9OGo-ZoJL",
        "outputId": "132bdaeb-30f3-4fc6-9a8d-6ce8789ea61b"
      },
      "execution_count": null,
      "outputs": [
        {
          "output_type": "stream",
          "name": "stdout",
          "text": [
            "siva prakasan\n"
          ]
        }
      ]
    },
    {
      "cell_type": "code",
      "source": [
        "a=b=c=\"Data analytics\"\n",
        "print(a)\n",
        "print(b)\n",
        "print(c)"
      ],
      "metadata": {
        "colab": {
          "base_uri": "https://localhost:8080/"
        },
        "id": "B4gJMklZZ7NK",
        "outputId": "0a6d769f-f8db-4979-de6b-2cbae10427ce"
      },
      "execution_count": null,
      "outputs": [
        {
          "output_type": "stream",
          "name": "stdout",
          "text": [
            "Data analytics\n",
            "Data analytics\n",
            "Data analytics\n"
          ]
        }
      ]
    },
    {
      "cell_type": "code",
      "source": [
        "a,b,c=\"AI\" , \"ML\" , \"DS\"\n",
        "print(a)\n",
        "print(b)\n",
        "print(c)"
      ],
      "metadata": {
        "colab": {
          "base_uri": "https://localhost:8080/"
        },
        "id": "9QHqR9scZoL1",
        "outputId": "7b4a9c7a-4166-4016-838d-1e9a1d94fceb"
      },
      "execution_count": null,
      "outputs": [
        {
          "output_type": "stream",
          "name": "stdout",
          "text": [
            "AI\n",
            "ML\n",
            "DS\n"
          ]
        }
      ]
    },
    {
      "cell_type": "code",
      "source": [
        "#STRING\n",
        "check=\"sathiya\"\n",
        "print(check)\n",
        "print(type(check))"
      ],
      "metadata": {
        "colab": {
          "base_uri": "https://localhost:8080/"
        },
        "id": "ZxHfovVYZoOW",
        "outputId": "83477785-7c47-40b5-8b11-374a56cbd0ef"
      },
      "execution_count": null,
      "outputs": [
        {
          "output_type": "stream",
          "name": "stdout",
          "text": [
            "sathiya\n",
            "<class 'str'>\n"
          ]
        }
      ]
    },
    {
      "cell_type": "code",
      "source": [
        "#numarical data type\n",
        "check=89\n",
        "print(check)\n",
        "print(type(check))"
      ],
      "metadata": {
        "colab": {
          "base_uri": "https://localhost:8080/"
        },
        "id": "I5ir2LYiZoQ1",
        "outputId": "fd04927f-e952-44f7-bd60-0fedf1b25c48"
      },
      "execution_count": null,
      "outputs": [
        {
          "output_type": "stream",
          "name": "stdout",
          "text": [
            "89\n",
            "<class 'int'>\n"
          ]
        }
      ]
    },
    {
      "cell_type": "code",
      "source": [
        "#float\n",
        "check=1658.9082\n",
        "print(check)\n",
        "print(type(check))"
      ],
      "metadata": {
        "colab": {
          "base_uri": "https://localhost:8080/"
        },
        "id": "tre9ey84ZoUS",
        "outputId": "4ebc6737-7b25-493b-ff62-d62a0010a4ba"
      },
      "execution_count": null,
      "outputs": [
        {
          "output_type": "stream",
          "name": "stdout",
          "text": [
            "1658.9082\n",
            "<class 'float'>\n"
          ]
        }
      ]
    },
    {
      "cell_type": "code",
      "source": [
        "#complex\n",
        "check=2+8j+8\n",
        "print(check)\n",
        "print(type(check))"
      ],
      "metadata": {
        "colab": {
          "base_uri": "https://localhost:8080/"
        },
        "id": "avceSoqdbfaP",
        "outputId": "f3da82bc-cd18-4c35-8626-67bc8c618e55"
      },
      "execution_count": null,
      "outputs": [
        {
          "output_type": "stream",
          "name": "stdout",
          "text": [
            "(10+8j)\n",
            "<class 'complex'>\n"
          ]
        }
      ]
    },
    {
      "cell_type": "code",
      "source": [
        "#list[]\n",
        "check=[\"tamil\",\"english\",\"maths\"]\n",
        "print(check)\n",
        "print(type(check))\n"
      ],
      "metadata": {
        "colab": {
          "base_uri": "https://localhost:8080/"
        },
        "id": "67Ug3kwubj8L",
        "outputId": "de362d5c-8344-404b-ceaa-f0e13af77a39"
      },
      "execution_count": null,
      "outputs": [
        {
          "output_type": "stream",
          "name": "stdout",
          "text": [
            "['tamil', 'english', 'maths']\n",
            "<class 'list'>\n"
          ]
        }
      ]
    },
    {
      "cell_type": "code",
      "source": [
        "#tuple()\n",
        "check=(\"tamil\",\"english\",\"maths\")\n",
        "print(check)\n",
        "print(type(check))\n"
      ],
      "metadata": {
        "colab": {
          "base_uri": "https://localhost:8080/"
        },
        "id": "XUHcHPzgbj45",
        "outputId": "b1f625fe-1550-44a1-d958-462fd0249855"
      },
      "execution_count": null,
      "outputs": [
        {
          "output_type": "stream",
          "name": "stdout",
          "text": [
            "('tamil', 'english', 'maths')\n",
            "<class 'tuple'>\n"
          ]
        }
      ]
    },
    {
      "cell_type": "code",
      "source": [
        "#set{}\n",
        "check={\"tamil\",\"english\",\"maths\",\"science\"}\n",
        "print(check)\n",
        "print(type(check))"
      ],
      "metadata": {
        "colab": {
          "base_uri": "https://localhost:8080/"
        },
        "id": "jm81zunrbj2e",
        "outputId": "e388c4b5-bdb6-4cff-8faa-22f9c6c5a3a6"
      },
      "execution_count": null,
      "outputs": [
        {
          "output_type": "stream",
          "name": "stdout",
          "text": [
            "{'english', 'science', 'tamil', 'maths'}\n",
            "<class 'set'>\n"
          ]
        }
      ]
    },
    {
      "cell_type": "code",
      "source": [
        "#dict{}\n",
        "check={\"name\":\"kavin\",\"age\":20,\"location\":\"salem\"}\n",
        "print(check)\n",
        "print(type(check))"
      ],
      "metadata": {
        "colab": {
          "base_uri": "https://localhost:8080/"
        },
        "id": "zlA9PQX-bjzz",
        "outputId": "beacb674-f6bd-4f6a-c3cb-0876a07f847e"
      },
      "execution_count": null,
      "outputs": [
        {
          "output_type": "stream",
          "name": "stdout",
          "text": [
            "{'name': 'kavin', 'age': 20, 'location': 'salem'}\n",
            "<class 'dict'>\n"
          ]
        }
      ]
    },
    {
      "cell_type": "code",
      "source": [
        "#range\n",
        "check=range(147)\n",
        "print(check)\n",
        "print(type(check))"
      ],
      "metadata": {
        "colab": {
          "base_uri": "https://localhost:8080/"
        },
        "id": "HgGNg4Z9bjxc",
        "outputId": "8b960b82-dce9-429f-ef4b-c0a2f5c7e562"
      },
      "execution_count": null,
      "outputs": [
        {
          "output_type": "stream",
          "name": "stdout",
          "text": [
            "range(0, 147)\n",
            "<class 'range'>\n"
          ]
        }
      ]
    },
    {
      "cell_type": "code",
      "source": [
        "#boolean (true or false)\n",
        "check=True\n",
        "print(check)\n",
        "print(type(check))"
      ],
      "metadata": {
        "colab": {
          "base_uri": "https://localhost:8080/"
        },
        "id": "yEGNdGbBbjuz",
        "outputId": "c5516f2f-ce76-42cc-b425-d52259a89af9"
      },
      "execution_count": null,
      "outputs": [
        {
          "output_type": "stream",
          "name": "stdout",
          "text": [
            "True\n",
            "<class 'bool'>\n"
          ]
        }
      ]
    },
    {
      "cell_type": "code",
      "source": [
        "#Variable Declaration\n",
        "\n",
        "# Variables in Python (no need to declare type)\n",
        "name = \"Sathiya\"   # string\n",
        "age = 22          # integer\n",
        "height = 5.3      # float\n",
        "is_student = True  # boolean\n",
        "\n",
        "print(\"Name:\", name)\n",
        "print(\"Age:\", age)\n",
        "print(\"Height:\", height)\n",
        "print(\"Student:\", is_student)"
      ],
      "metadata": {
        "id": "2T2ZmhbDbjsC",
        "colab": {
          "base_uri": "https://localhost:8080/"
        },
        "outputId": "43782357-e849-4ca9-c52e-ac4f82e0b00d"
      },
      "execution_count": null,
      "outputs": [
        {
          "output_type": "stream",
          "name": "stdout",
          "text": [
            "Name: Sathiya\n",
            "Age: 22\n",
            "Height: 5.3\n",
            "Student: True\n"
          ]
        }
      ]
    },
    {
      "cell_type": "code",
      "source": [
        "a=int(input(\"Enter the A Value : \"))\n",
        "b=int(input(\"Enter the B Value : \"))\n",
        "c=a+b\n",
        "print(c)"
      ],
      "metadata": {
        "id": "ycvdFmpZbjpe",
        "colab": {
          "base_uri": "https://localhost:8080/"
        },
        "outputId": "d466be26-10a1-4b8a-e021-a3aac56e81c9"
      },
      "execution_count": null,
      "outputs": [
        {
          "output_type": "stream",
          "name": "stdout",
          "text": [
            "Enter the A Value : 80\n",
            "Enter the B Value : 60\n",
            "140\n"
          ]
        }
      ]
    },
    {
      "cell_type": "code",
      "source": [
        "# Add 4 Number, Sum, Avg\n",
        "\n",
        "T=int(input(\"Enter the Mark \"))\n",
        "E=int(input(\"Enter the Mark \"))\n",
        "S=int(input(\"Enter the Mark \"))\n",
        "SS=int(input(\"Enter the Mark \"))\n",
        "\n",
        "SUM=T+E+S+SS\n",
        "print(\"SUM - \", SUM)\n",
        "\n",
        "AVG=SUM/4\n",
        "print(\"AVG - \", AVG)"
      ],
      "metadata": {
        "id": "EtcvDzZmbjm3",
        "colab": {
          "base_uri": "https://localhost:8080/"
        },
        "outputId": "fce4fd07-b650-45d0-e470-29892729856a"
      },
      "execution_count": null,
      "outputs": [
        {
          "output_type": "stream",
          "name": "stdout",
          "text": [
            "Enter the Mark 98\n",
            "Enter the Mark 60\n",
            "Enter the Mark 58\n",
            "Enter the Mark 99\n",
            "SUM -  315\n",
            "AVG -  78.75\n"
          ]
        }
      ]
    },
    {
      "cell_type": "code",
      "source": [
        "# Arithmetic opr\n",
        "\n",
        "a=89\n",
        "b=8\n",
        "\n",
        "print(a//b)\n",
        "print(a**b)\n",
        "print(a+b)"
      ],
      "metadata": {
        "id": "cBg9B9LkbjkS",
        "colab": {
          "base_uri": "https://localhost:8080/"
        },
        "outputId": "6bd7fa0b-2064-46af-aa3a-fddd3132afa9"
      },
      "execution_count": null,
      "outputs": [
        {
          "output_type": "stream",
          "name": "stdout",
          "text": [
            "11\n",
            "3936588805702081\n",
            "97\n"
          ]
        }
      ]
    },
    {
      "cell_type": "code",
      "source": [
        "# Ass.Opr\n",
        "\n",
        "a=12\n",
        "b=2\n",
        "# c=a+b\n",
        "# print(c)\n",
        "print(a*b)\n",
        "print(a**b)\n",
        "print(a//b)"
      ],
      "metadata": {
        "id": "3uNRO6IUbjhx",
        "colab": {
          "base_uri": "https://localhost:8080/"
        },
        "outputId": "680814ad-6f7b-4ed9-d887-b435925d4c2c"
      },
      "execution_count": null,
      "outputs": [
        {
          "output_type": "stream",
          "name": "stdout",
          "text": [
            "24\n",
            "144\n",
            "6\n"
          ]
        }
      ]
    },
    {
      "cell_type": "code",
      "source": [
        "# Age Calc\n",
        "\n",
        "CY=int(input(\"Enter the Current Year : \"))\n",
        "DOB=int(input(\"Enter the DOB Year : \"))\n",
        "\n",
        "Answer=CY-DOB\n",
        "print(Answer)"
      ],
      "metadata": {
        "id": "eXiTG3qhbjfP",
        "colab": {
          "base_uri": "https://localhost:8080/"
        },
        "outputId": "19019c1b-5eb7-4265-afd7-449ba42df9ea"
      },
      "execution_count": null,
      "outputs": [
        {
          "output_type": "stream",
          "name": "stdout",
          "text": [
            "Enter the Current Year : 2025\n",
            "Enter the DOB Year : 2003\n",
            "22\n"
          ]
        }
      ]
    },
    {
      "cell_type": "code",
      "source": [
        "# Celsius to Fahrenheit\n",
        "\n",
        "A=int(input(\"Enter the Value : \"))\n",
        "B=(A*6.5/5)+87\n",
        "print(B)"
      ],
      "metadata": {
        "id": "np-CcRx8bjci",
        "colab": {
          "base_uri": "https://localhost:8080/"
        },
        "outputId": "32d2fe92-2a55-499c-835d-11700c3e2a33"
      },
      "execution_count": null,
      "outputs": [
        {
          "output_type": "stream",
          "name": "stdout",
          "text": [
            "Enter the Value : 56\n",
            "159.8\n"
          ]
        }
      ]
    },
    {
      "cell_type": "code",
      "source": [
        "# Rel.Opr\n",
        "\n",
        "a=4\n",
        "b=7\n",
        "\n",
        "print(a<=b)\n",
        "print(a!=b)"
      ],
      "metadata": {
        "id": "SQrKF5eobjZ8",
        "colab": {
          "base_uri": "https://localhost:8080/"
        },
        "outputId": "82982364-fd3c-4d8c-8c02-b017a2c31269"
      },
      "execution_count": null,
      "outputs": [
        {
          "output_type": "stream",
          "name": "stdout",
          "text": [
            "True\n",
            "True\n"
          ]
        }
      ]
    },
    {
      "cell_type": "code",
      "source": [
        "# Swap 2 Number - Without\n",
        "\n",
        "a=50\n",
        "b=10\n",
        "\n",
        "print(\"Before Value \")\n",
        "print(\"A - \", a)\n",
        "print(\"B - \", b)\n",
        "\n",
        "a=a+b\n",
        "b=a-b\n",
        "a=a-b\n",
        "\n",
        "print(\"After Value \")\n",
        "print(\"A - \", a)\n",
        "print(\"B - \", b)"
      ],
      "metadata": {
        "id": "v4m4PHrRbjRq",
        "colab": {
          "base_uri": "https://localhost:8080/"
        },
        "outputId": "fbd79c29-27ee-413a-a428-23cb3f883060"
      },
      "execution_count": null,
      "outputs": [
        {
          "output_type": "stream",
          "name": "stdout",
          "text": [
            "Before Value \n",
            "A -  50\n",
            "B -  10\n",
            "After Value \n",
            "A -  10\n",
            "B -  50\n"
          ]
        }
      ]
    },
    {
      "cell_type": "code",
      "source": [
        "yearly_salary=65000\n",
        "monthly_salary=yearly_salary/12\n",
        "weekly_salary=yearly_salary/52\n",
        "perday_salary=weekly_salary/7\n",
        "perhour_salary=perday_salary/8\n",
        "\n",
        "print(\"yearly salary : \", yearly_salary)\n",
        "print(\"monthly salary : \", round(monthly_salary,2))\n",
        "print(\"weekly salary : \", round(weekly_salary/2))\n",
        "print(\"daily salary : \", round(perday_salary/2))\n",
        "print(\"hourly salary : \", round(perhour_salary/2))"
      ],
      "metadata": {
        "id": "2yvGpeXLbh87",
        "colab": {
          "base_uri": "https://localhost:8080/"
        },
        "outputId": "9fa02077-c3fe-4102-d7a9-d1425b11d139"
      },
      "execution_count": null,
      "outputs": [
        {
          "output_type": "stream",
          "name": "stdout",
          "text": [
            "yearly salary :  65000\n",
            "monthly salary :  5416.67\n",
            "weekly salary :  625\n",
            "daily salary :  89\n",
            "hourly salary :  11\n"
          ]
        }
      ]
    },
    {
      "cell_type": "code",
      "source": [
        "#logical operators - and,or,not\n",
        "a=25\n",
        "b=50\n",
        "\n",
        "check= a>=b and a==b\n",
        "print(check)"
      ],
      "metadata": {
        "colab": {
          "base_uri": "https://localhost:8080/"
        },
        "id": "_DVwgblZ6A0C",
        "outputId": "e82f6bfa-bcef-411b-e47a-d5192e2cbc20"
      },
      "execution_count": null,
      "outputs": [
        {
          "output_type": "stream",
          "name": "stdout",
          "text": [
            "False\n"
          ]
        }
      ]
    },
    {
      "cell_type": "code",
      "source": [
        "a=25\n",
        "b=50\n",
        "\n",
        "check= a<=b and a!=b\n",
        "print(check)"
      ],
      "metadata": {
        "colab": {
          "base_uri": "https://localhost:8080/"
        },
        "id": "HrMJbx6n6Awl",
        "outputId": "96662fa9-cc61-4f14-c67f-8396cf3fd049"
      },
      "execution_count": null,
      "outputs": [
        {
          "output_type": "stream",
          "name": "stdout",
          "text": [
            "True\n"
          ]
        }
      ]
    },
    {
      "cell_type": "code",
      "source": [
        "un = \"sathiyas\"\n",
        "pw = \"Sathiya@123\"\n",
        "\n",
        "username=input(\"Enter the name : \")\n",
        "password = input(\"Enter the password : \")\n",
        "\n",
        "check= (username==un) and password == (pw)\n",
        "print(check)"
      ],
      "metadata": {
        "colab": {
          "base_uri": "https://localhost:8080/"
        },
        "id": "MicIE8oP6At0",
        "outputId": "9c6da7ac-4d33-4622-fb15-3e6fbbf5f737"
      },
      "execution_count": null,
      "outputs": [
        {
          "output_type": "stream",
          "name": "stdout",
          "text": [
            "Enter the name : sathiyas\n",
            "Enter the password : Sathiya@123\n",
            "True\n"
          ]
        }
      ]
    },
    {
      "cell_type": "code",
      "source": [
        "#or\n",
        "\n",
        "a=2\n",
        "b=3\n",
        "\n",
        "check= a<=b or a<b\n",
        "print(check)"
      ],
      "metadata": {
        "colab": {
          "base_uri": "https://localhost:8080/"
        },
        "id": "lHyS9ugA6ArL",
        "outputId": "bd17fb45-38aa-45bc-ccc3-17eb4136a02b"
      },
      "execution_count": null,
      "outputs": [
        {
          "output_type": "stream",
          "name": "stdout",
          "text": [
            "True\n"
          ]
        }
      ]
    },
    {
      "cell_type": "code",
      "source": [
        "#not\n",
        "a=4\n",
        "b=6\n",
        "\n",
        "check = not(a<=b)\n",
        "print(check)\n"
      ],
      "metadata": {
        "colab": {
          "base_uri": "https://localhost:8080/"
        },
        "id": "PqbDZvSq6AoJ",
        "outputId": "0ecc352e-a7e1-443b-cf2e-961a4a593028"
      },
      "execution_count": null,
      "outputs": [
        {
          "output_type": "stream",
          "name": "stdout",
          "text": [
            "False\n"
          ]
        }
      ]
    },
    {
      "cell_type": "code",
      "source": [
        "#in\n",
        "data=[\"Python\", \"DA\", \"DV\", \"BI\"]\n",
        "\n",
        "print(\"BI\" in data)\n",
        "print(\"PyGame\" in data)"
      ],
      "metadata": {
        "colab": {
          "base_uri": "https://localhost:8080/"
        },
        "id": "0ZKlhlsJ6Al0",
        "outputId": "4e8413c9-b556-4bf0-937a-8782dfe3deb5"
      },
      "execution_count": null,
      "outputs": [
        {
          "output_type": "stream",
          "name": "stdout",
          "text": [
            "True\n",
            "False\n"
          ]
        }
      ]
    },
    {
      "cell_type": "code",
      "source": [
        "print(\"UI\" not in data)\n",
        "print(\"DA\" not in data)"
      ],
      "metadata": {
        "colab": {
          "base_uri": "https://localhost:8080/"
        },
        "id": "-I43Hs2H6AjA",
        "outputId": "22bac1bf-8893-4cba-f9ee-2dbd1b04b237"
      },
      "execution_count": null,
      "outputs": [
        {
          "output_type": "stream",
          "name": "stdout",
          "text": [
            "True\n",
            "False\n"
          ]
        }
      ]
    },
    {
      "cell_type": "code",
      "source": [
        "# Identity Operators - is, is not\n",
        "\n",
        "a=[\"UI\", \"UX\"]\n",
        "b=[\"UI\", \"UX\"]\n",
        "\n",
        "c=a\n",
        "\n",
        "print(a is c)\n",
        "\n",
        "print(a is b)\n",
        "\n",
        "print(a==b)\n"
      ],
      "metadata": {
        "colab": {
          "base_uri": "https://localhost:8080/"
        },
        "id": "tJ-D6ufU6AgY",
        "outputId": "f586ed95-7904-427d-9235-f3c85ad52d33"
      },
      "execution_count": null,
      "outputs": [
        {
          "output_type": "stream",
          "name": "stdout",
          "text": [
            "True\n",
            "False\n",
            "True\n"
          ]
        }
      ]
    },
    {
      "cell_type": "code",
      "source": [
        "a=[\"UI\", \"UX\"]\n",
        "b=[\"UI\", \"UX\"]\n",
        "\n",
        "c=a\n",
        "\n",
        "print(a is not c)\n",
        "print(a is not b)\n",
        "print(a!=b)"
      ],
      "metadata": {
        "colab": {
          "base_uri": "https://localhost:8080/"
        },
        "id": "cPin_nLq6Ade",
        "outputId": "6836186a-69dc-4e51-ca6b-38f3f01194ad"
      },
      "execution_count": null,
      "outputs": [
        {
          "output_type": "stream",
          "name": "stdout",
          "text": [
            "False\n",
            "True\n",
            "False\n"
          ]
        }
      ]
    },
    {
      "cell_type": "code",
      "source": [
        "#control system #if,if else,nested if else,ladder if else\n",
        "#if\n",
        "\n",
        "mark=int(input(\"enter the value :\"))\n",
        "\n",
        "if mark<=50:\n",
        "  print(\"pass\")\n",
        "\n",
        "if mark>50:\n",
        "  print(\"fail\")"
      ],
      "metadata": {
        "id": "vIXakPnf6AAa",
        "colab": {
          "base_uri": "https://localhost:8080/"
        },
        "outputId": "522b76d0-0877-435a-fbc7-be38c906287a"
      },
      "execution_count": null,
      "outputs": [
        {
          "output_type": "stream",
          "name": "stdout",
          "text": [
            "enter the value :43\n",
            "pass\n"
          ]
        }
      ]
    },
    {
      "cell_type": "code",
      "source": [
        "#if else\n",
        "\n",
        "age = int(input(\"enter the age :\"))\n",
        "\n",
        "if age>=18:\n",
        "  print(\"eligible for vote\")\n",
        "\n",
        "else:\n",
        "  print(\"not eligible for vote\")"
      ],
      "metadata": {
        "id": "gTtWT0v-5_8-",
        "colab": {
          "base_uri": "https://localhost:8080/"
        },
        "outputId": "4806fae8-ac7a-4ed2-cfe5-86be0037c314"
      },
      "execution_count": null,
      "outputs": [
        {
          "output_type": "stream",
          "name": "stdout",
          "text": [
            "enter the age :17\n",
            "not eligible for vote\n"
          ]
        }
      ]
    },
    {
      "cell_type": "code",
      "source": [
        "#if else\n",
        "movie=input(\"paid/not paid :\")\n",
        "\n",
        "if movie==\"paid\":\n",
        "  print(\"confrimed\")\n",
        "\n",
        "else:\n",
        "  print(\"not confrimed\")"
      ],
      "metadata": {
        "id": "tEWqZKeR5_5f",
        "colab": {
          "base_uri": "https://localhost:8080/"
        },
        "outputId": "2bd4367d-e9ce-49a7-98ef-24eab6c2f8ee"
      },
      "execution_count": null,
      "outputs": [
        {
          "output_type": "stream",
          "name": "stdout",
          "text": [
            "paid/not paid :paid\n",
            "confrimed\n"
          ]
        }
      ]
    },
    {
      "cell_type": "code",
      "source": [
        "#ladder if else\n",
        "\n",
        "marks = int(input(\"enter your marks :\"))\n",
        "\n",
        "if marks>=80:\n",
        "  print(\"GREAT\")\n",
        "elif marks>=55:\n",
        "  print(\"GOOD\")\n",
        "elif marks>=45:\n",
        "  print(\"AVERAGE\")\n",
        "else:\n",
        "  print(\"FAIL\")\n"
      ],
      "metadata": {
        "id": "yWFuMsfU5_2P",
        "colab": {
          "base_uri": "https://localhost:8080/"
        },
        "outputId": "163d195d-babe-430a-ddde-a3cac860b3d6"
      },
      "execution_count": null,
      "outputs": [
        {
          "output_type": "stream",
          "name": "stdout",
          "text": [
            "enter your marks :58\n",
            "GOOD\n"
          ]
        }
      ]
    },
    {
      "cell_type": "code",
      "source": [
        "a=int(input(\"enter the mark of a:\"))\n",
        "b=int(input(\"enter the mark of b :\"))\n",
        "c=int(input(\"enter the mark of c :\"))\n",
        "\n",
        "if a>b and a>c:\n",
        "  print(\"a is distinction\")\n",
        "elif b>a and b>c:\n",
        "  print(\"b is first class\")\n",
        "else:\n",
        "  print(\"c is second class\")"
      ],
      "metadata": {
        "id": "pzhxQVjh5_nT",
        "colab": {
          "base_uri": "https://localhost:8080/"
        },
        "outputId": "f2877f51-a71d-495f-86a5-7df355354fb4"
      },
      "execution_count": null,
      "outputs": [
        {
          "output_type": "stream",
          "name": "stdout",
          "text": [
            "enter the mark of a:80\n",
            "enter the mark of b :99\n",
            "enter the mark of c :50\n",
            "c is second class\n"
          ]
        }
      ]
    },
    {
      "cell_type": "code",
      "source": [
        "#nested if else\n",
        "\n",
        "num = int(input(\"Enter a number: \"))\n",
        "if num > 0:\n",
        "    if num % 2 == 0:\n",
        "        print(\"positive and even number\")\n",
        "    else:\n",
        "        print(\"positive but odd number\")\n",
        "else:\n",
        "    print(\"not a positive number\")\n"
      ],
      "metadata": {
        "id": "tJefnP7H5_Np",
        "colab": {
          "base_uri": "https://localhost:8080/"
        },
        "outputId": "fbf8aeb7-6275-4886-fd93-ed6f14f9e654"
      },
      "execution_count": null,
      "outputs": [
        {
          "output_type": "stream",
          "name": "stdout",
          "text": [
            "Enter a number: 6\n",
            "positive and even number\n"
          ]
        }
      ]
    },
    {
      "cell_type": "code",
      "source": [
        "#match statement\n",
        "\n",
        "#match case\n",
        "day=int(input(\"enter the day :\"))\n",
        "\n",
        "match day:\n",
        "  case 1:\n",
        "    print(\"sunday\")\n",
        "  case 2:\n",
        "    print(\"monday\")\n",
        "  case 3:\n",
        "    print(\"tuesday\")\n",
        "  case 4:\n",
        "    print(\"wednesday\")\n",
        "  case 5:\n",
        "    print(\"thursday\")\n",
        "  case 6:\n",
        "    print(\"friday\")\n",
        "  case 7:\n",
        "    print(\"saturday\")\n",
        "  case _:\n",
        "    print(\"invalid value\")\n"
      ],
      "metadata": {
        "id": "2WItsw885_KQ",
        "colab": {
          "base_uri": "https://localhost:8080/"
        },
        "outputId": "1679ede5-6a64-4002-abbe-8910aa9ba4a6"
      },
      "execution_count": null,
      "outputs": [
        {
          "output_type": "stream",
          "name": "stdout",
          "text": [
            "enter the day :4\n",
            "wednesday\n"
          ]
        }
      ]
    },
    {
      "cell_type": "code",
      "source": [
        "day=int(input(\"enter the day :\"))\n",
        "\n",
        "match day:\n",
        "  case 1:\n",
        "    print(\"sunday\")\n",
        "  case 2:\n",
        "    print(\"monday\")\n",
        "  case 3:\n",
        "    print(\"tuesday\")\n",
        "  case 4:\n",
        "    print(\"wednesday\")\n",
        "  case 5:\n",
        "    print(\"thursday\")\n",
        "  case 6:\n",
        "    print(\"friday\")\n",
        "  case 7:\n",
        "    print(\"saturday\")\n",
        "  case _:\n",
        "    print(\"invalid value\")"
      ],
      "metadata": {
        "id": "rtreHA6F5_G0",
        "colab": {
          "base_uri": "https://localhost:8080/"
        },
        "outputId": "62ebebfe-d682-4900-e700-2bb3942b8b0e"
      },
      "execution_count": null,
      "outputs": [
        {
          "output_type": "stream",
          "name": "stdout",
          "text": [
            "enter the day :12\n",
            "invalid value\n"
          ]
        }
      ]
    },
    {
      "cell_type": "code",
      "source": [
        "status = int(input(\"enter the stage of your program :\"))\n",
        "match status:\n",
        "  case 1:\n",
        "    print(\"your program is starting\")\n",
        "  case 2:\n",
        "    print(\"your program is running\")\n",
        "  case 3:\n",
        "    print(\"your program is stopped\")\n",
        "  case _:\n",
        "    print(\" error occured\")"
      ],
      "metadata": {
        "id": "1AtRSlP45_Du",
        "colab": {
          "base_uri": "https://localhost:8080/"
        },
        "outputId": "6440cbf3-9813-4be0-a39b-3b2c6d96c1ed"
      },
      "execution_count": null,
      "outputs": [
        {
          "output_type": "stream",
          "name": "stdout",
          "text": [
            "enter the stage of your program :3\n",
            "your program is stopped\n"
          ]
        }
      ]
    },
    {
      "cell_type": "code",
      "source": [
        "#looping statement\n",
        "\n",
        "i=1\n",
        "while i<=10:\n",
        "  print(i)\n",
        "  i=i+1"
      ],
      "metadata": {
        "id": "Bd1Oi_925_Aw",
        "colab": {
          "base_uri": "https://localhost:8080/"
        },
        "outputId": "1844f070-0627-4992-8fed-db5cc3e1114b"
      },
      "execution_count": null,
      "outputs": [
        {
          "output_type": "stream",
          "name": "stdout",
          "text": [
            "1\n",
            "2\n",
            "3\n",
            "4\n",
            "5\n",
            "6\n",
            "7\n",
            "8\n",
            "9\n",
            "10\n"
          ]
        }
      ]
    },
    {
      "cell_type": "code",
      "source": [
        "j=1\n",
        "while j<=15:\n",
        "  print(j)\n",
        "  j=j+2"
      ],
      "metadata": {
        "id": "b02nZ9xg5-9x",
        "colab": {
          "base_uri": "https://localhost:8080/"
        },
        "outputId": "9a4d1447-1e97-46ce-f59a-91a7dbafccc2"
      },
      "execution_count": null,
      "outputs": [
        {
          "output_type": "stream",
          "name": "stdout",
          "text": [
            "1\n",
            "3\n",
            "5\n",
            "7\n",
            "9\n",
            "11\n",
            "13\n",
            "15\n"
          ]
        }
      ]
    },
    {
      "cell_type": "code",
      "source": [
        "\n",
        "for i in \"Sathiya\":\n",
        "  print(i)"
      ],
      "metadata": {
        "id": "QqeefKCy5-3i",
        "colab": {
          "base_uri": "https://localhost:8080/"
        },
        "outputId": "12ba6572-0472-4ad9-bdb2-a5aacf535f88"
      },
      "execution_count": null,
      "outputs": [
        {
          "output_type": "stream",
          "name": "stdout",
          "text": [
            "S\n",
            "a\n",
            "t\n",
            "h\n",
            "i\n",
            "y\n",
            "a\n"
          ]
        }
      ]
    },
    {
      "cell_type": "code",
      "source": [
        "i=1\n",
        "while i<=10:\n",
        "  print(i ,\"*2=\",i*2)\n",
        "  i=i+1"
      ],
      "metadata": {
        "id": "NTbEkFrd5-60",
        "colab": {
          "base_uri": "https://localhost:8080/"
        },
        "outputId": "aefb5c72-05d8-49bf-da68-b168dd4830bb"
      },
      "execution_count": null,
      "outputs": [
        {
          "output_type": "stream",
          "name": "stdout",
          "text": [
            "1 *2= 2\n",
            "2 *2= 4\n",
            "3 *2= 6\n",
            "4 *2= 8\n",
            "5 *2= 10\n",
            "6 *2= 12\n",
            "7 *2= 14\n",
            "8 *2= 16\n",
            "9 *2= 18\n",
            "10 *2= 20\n"
          ]
        }
      ]
    },
    {
      "cell_type": "code",
      "source": [
        "for i in range(1,11):\n",
        "  print(i ,\"*2=\",i*2)"
      ],
      "metadata": {
        "id": "naV0Wi0C5-0o",
        "colab": {
          "base_uri": "https://localhost:8080/"
        },
        "outputId": "47ae8d6a-a581-465f-cdc8-7508ee417fc9"
      },
      "execution_count": null,
      "outputs": [
        {
          "output_type": "stream",
          "name": "stdout",
          "text": [
            "1 *2= 2\n",
            "2 *2= 4\n",
            "3 *2= 6\n",
            "4 *2= 8\n",
            "5 *2= 10\n",
            "6 *2= 12\n",
            "7 *2= 14\n",
            "8 *2= 16\n",
            "9 *2= 18\n",
            "10 *2= 20\n"
          ]
        }
      ]
    },
    {
      "cell_type": "code",
      "source": [
        "for i in range(11):\n",
        "  if i%2==0:\n",
        "    print(i, \" - Even Number\")\n",
        "  else:\n",
        "    print(i, \" - Odd Number\")"
      ],
      "metadata": {
        "id": "2pgb0rlA5-x0",
        "colab": {
          "base_uri": "https://localhost:8080/"
        },
        "outputId": "663ab12c-ad02-4a91-b9ea-4d57a3564b1e"
      },
      "execution_count": null,
      "outputs": [
        {
          "output_type": "stream",
          "name": "stdout",
          "text": [
            "0  - Even Number\n",
            "1  - Odd Number\n",
            "2  - Even Number\n",
            "3  - Odd Number\n",
            "4  - Even Number\n",
            "5  - Odd Number\n",
            "6  - Even Number\n",
            "7  - Odd Number\n",
            "8  - Even Number\n",
            "9  - Odd Number\n",
            "10  - Even Number\n"
          ]
        }
      ]
    },
    {
      "cell_type": "code",
      "source": [
        "#pattern\n",
        "\n",
        "for i in range(1,6):\n",
        "  for j in range(1,8):\n",
        "    print(\"x\",\"y\" , end=\" \")\n",
        "  print()"
      ],
      "metadata": {
        "id": "qbeubzUu5-sb",
        "colab": {
          "base_uri": "https://localhost:8080/"
        },
        "outputId": "63267826-3a5d-4c1e-d18c-d58e8e58e4ee"
      },
      "execution_count": null,
      "outputs": [
        {
          "output_type": "stream",
          "name": "stdout",
          "text": [
            "x y x y x y x y x y x y x y \n",
            "x y x y x y x y x y x y x y \n",
            "x y x y x y x y x y x y x y \n",
            "x y x y x y x y x y x y x y \n",
            "x y x y x y x y x y x y x y \n"
          ]
        }
      ]
    },
    {
      "cell_type": "code",
      "source": [
        "for i in range(1,6):\n",
        "  for j in range(1,6):\n",
        "    print(j,end=\" \")\n",
        "  print()"
      ],
      "metadata": {
        "id": "HAkIHnbN5-pe",
        "colab": {
          "base_uri": "https://localhost:8080/"
        },
        "outputId": "81913186-4438-4da8-ef03-99b5916621d6"
      },
      "execution_count": null,
      "outputs": [
        {
          "output_type": "stream",
          "name": "stdout",
          "text": [
            "1 2 3 4 5 \n",
            "1 2 3 4 5 \n",
            "1 2 3 4 5 \n",
            "1 2 3 4 5 \n",
            "1 2 3 4 5 \n"
          ]
        }
      ]
    },
    {
      "cell_type": "code",
      "source": [
        "#patterns\n",
        "\n",
        "for i in range(1,6):\n",
        "  for j in range(1,6):\n",
        "    print(i,end=\" \")\n",
        "  print()"
      ],
      "metadata": {
        "id": "XhHRbk915-mq",
        "colab": {
          "base_uri": "https://localhost:8080/"
        },
        "outputId": "7c63f3e7-722d-48be-8342-41fbd821bf4f"
      },
      "execution_count": 1,
      "outputs": [
        {
          "output_type": "stream",
          "name": "stdout",
          "text": [
            "1 1 1 1 1 \n",
            "2 2 2 2 2 \n",
            "3 3 3 3 3 \n",
            "4 4 4 4 4 \n",
            "5 5 5 5 5 \n"
          ]
        }
      ]
    },
    {
      "cell_type": "code",
      "source": [
        "for i in range(1,6):\n",
        "  for j in range(1,6):\n",
        "    print(\"*\",end=\" \")\n",
        "  print()"
      ],
      "metadata": {
        "id": "XcjI6YXF5-kB",
        "colab": {
          "base_uri": "https://localhost:8080/"
        },
        "outputId": "9da16e83-404c-4890-96cf-7999e18f8daa"
      },
      "execution_count": 2,
      "outputs": [
        {
          "output_type": "stream",
          "name": "stdout",
          "text": [
            "* * * * * \n",
            "* * * * * \n",
            "* * * * * \n",
            "* * * * * \n",
            "* * * * * \n"
          ]
        }
      ]
    },
    {
      "cell_type": "code",
      "source": [
        "for i in range (5,0, -1):\n",
        "  for j in range(i):\n",
        "    print(i,end=\" \")\n",
        "  print()"
      ],
      "metadata": {
        "id": "YZ3ahPd-5-hB",
        "colab": {
          "base_uri": "https://localhost:8080/"
        },
        "outputId": "d17e37e3-66fd-4906-b92c-57ef4725d96f"
      },
      "execution_count": 8,
      "outputs": [
        {
          "output_type": "stream",
          "name": "stdout",
          "text": [
            "5 5 5 5 5 \n",
            "4 4 4 4 \n",
            "3 3 3 \n",
            "2 2 \n",
            "1 \n"
          ]
        }
      ]
    },
    {
      "cell_type": "code",
      "source": [
        "for i in range(1,6):\n",
        "  for j in range(1,i+1):\n",
        "    print(j,end=\" \")\n",
        "  print()"
      ],
      "metadata": {
        "id": "fSs8XVhI5-eS",
        "colab": {
          "base_uri": "https://localhost:8080/"
        },
        "outputId": "65a2feb9-a997-41f3-b5de-3425309fde41"
      },
      "execution_count": 10,
      "outputs": [
        {
          "output_type": "stream",
          "name": "stdout",
          "text": [
            "1 \n",
            "1 2 \n",
            "1 2 3 \n",
            "1 2 3 4 \n",
            "1 2 3 4 5 \n"
          ]
        }
      ]
    },
    {
      "cell_type": "code",
      "source": [
        "for i in range(1,6):\n",
        "  for j in range(1,i+1):\n",
        "    print(\"*\",end=\" \")\n",
        "  print()"
      ],
      "metadata": {
        "id": "F_fBtL385-bn",
        "colab": {
          "base_uri": "https://localhost:8080/"
        },
        "outputId": "e75be752-6512-4d0a-e150-9925ff27faad"
      },
      "execution_count": 11,
      "outputs": [
        {
          "output_type": "stream",
          "name": "stdout",
          "text": [
            "* \n",
            "* * \n",
            "* * * \n",
            "* * * * \n",
            "* * * * * \n"
          ]
        }
      ]
    },
    {
      "cell_type": "code",
      "source": [
        "for i in range (5,0, -1):\n",
        "  for j in range(i):\n",
        "    print(\"*\",end=\" \")\n",
        "  print()"
      ],
      "metadata": {
        "id": "PeW7rQZu5-Yr",
        "colab": {
          "base_uri": "https://localhost:8080/"
        },
        "outputId": "1e3f87ef-208a-454d-cd9b-862d6b03a5b6"
      },
      "execution_count": 12,
      "outputs": [
        {
          "output_type": "stream",
          "name": "stdout",
          "text": [
            "* * * * * \n",
            "* * * * \n",
            "* * * \n",
            "* * \n",
            "* \n"
          ]
        }
      ]
    },
    {
      "cell_type": "code",
      "source": [
        "k=65\n",
        "for i in range(1,6):\n",
        "  for j in range(1,i+1):\n",
        "    print(chr(k),end=\" \")\n",
        "    k=k+1\n",
        "  print()"
      ],
      "metadata": {
        "id": "aD1OdtSc5-V5",
        "colab": {
          "base_uri": "https://localhost:8080/"
        },
        "outputId": "d8675f3a-b26f-4af5-99bf-7cc7befe353e"
      },
      "execution_count": 13,
      "outputs": [
        {
          "output_type": "stream",
          "name": "stdout",
          "text": [
            "A \n",
            "B C \n",
            "D E F \n",
            "G H I J \n",
            "K L M N O \n"
          ]
        }
      ]
    },
    {
      "cell_type": "code",
      "source": [
        "k=65\n",
        "for i in range(1,6):\n",
        "  for j in range(1,6):\n",
        "    print(chr(k),end=\" \")\n",
        "    k=k+1\n",
        "  print()"
      ],
      "metadata": {
        "id": "6Q6JsT0o5-TW",
        "colab": {
          "base_uri": "https://localhost:8080/"
        },
        "outputId": "337dfe2e-4afa-436e-db4c-e8190aef0ba2"
      },
      "execution_count": 14,
      "outputs": [
        {
          "output_type": "stream",
          "name": "stdout",
          "text": [
            "A B C D E \n",
            "F G H I J \n",
            "K L M N O \n",
            "P Q R S T \n",
            "U V W X Y \n"
          ]
        }
      ]
    },
    {
      "cell_type": "code",
      "source": [
        "for i in range(97,102):\n",
        "  for j in range(97,102):\n",
        "    print(chr(i), end=\" \")\n",
        "  print()"
      ],
      "metadata": {
        "id": "9GEgBc-25-QW",
        "colab": {
          "base_uri": "https://localhost:8080/"
        },
        "outputId": "f5fe92a9-2cad-4695-e3ca-7281de026bb2"
      },
      "execution_count": 15,
      "outputs": [
        {
          "output_type": "stream",
          "name": "stdout",
          "text": [
            "a a a a a \n",
            "b b b b b \n",
            "c c c c c \n",
            "d d d d d \n",
            "e e e e e \n"
          ]
        }
      ]
    },
    {
      "cell_type": "code",
      "source": [
        "for i in range(101,96,-1):\n",
        "  for j in range(101,96,-1):\n",
        "    print(chr(i), end=\" \")\n",
        "  print()"
      ],
      "metadata": {
        "id": "t-zzN8lD5-N9",
        "colab": {
          "base_uri": "https://localhost:8080/"
        },
        "outputId": "8ab9a116-ff44-4d86-a825-b6c335f368fd"
      },
      "execution_count": 16,
      "outputs": [
        {
          "output_type": "stream",
          "name": "stdout",
          "text": [
            "e e e e e \n",
            "d d d d d \n",
            "c c c c c \n",
            "b b b b b \n",
            "a a a a a \n"
          ]
        }
      ]
    },
    {
      "cell_type": "code",
      "source": [
        "for i in range(96,102):\n",
        "  for j in range(96,102):\n",
        "    print(chr(i), end=\"  \")\n",
        "  print()"
      ],
      "metadata": {
        "id": "2QAjB8BD5-LJ",
        "colab": {
          "base_uri": "https://localhost:8080/"
        },
        "outputId": "f8dc82d7-b844-42c4-897f-ddaffbb4a779"
      },
      "execution_count": 24,
      "outputs": [
        {
          "output_type": "stream",
          "name": "stdout",
          "text": [
            "`  `  `  `  `  `  \n",
            "a  a  a  a  a  a  \n",
            "b  b  b  b  b  b  \n",
            "c  c  c  c  c  c  \n",
            "d  d  d  d  d  d  \n",
            "e  e  e  e  e  e  \n"
          ]
        }
      ]
    }
  ]
}