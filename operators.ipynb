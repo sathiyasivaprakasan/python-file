{
  "nbformat": 4,
  "nbformat_minor": 0,
  "metadata": {
    "colab": {
      "provenance": []
    },
    "kernelspec": {
      "name": "python3",
      "display_name": "Python 3"
    },
    "language_info": {
      "name": "python"
    }
  },
  "cells": [
    {
      "cell_type": "code",
      "execution_count": 4,
      "metadata": {
        "colab": {
          "base_uri": "https://localhost:8080/"
        },
        "id": "5jgiy2s1rTpK",
        "outputId": "79a79353-1580-41e4-f123-890c6465fe34"
      },
      "outputs": [
        {
          "output_type": "stream",
          "name": "stdout",
          "text": [
            "19\n",
            "1\n",
            "90\n",
            "1\n",
            "1.1111111111111112\n",
            "1\n",
            "1000000000\n",
            "False\n"
          ]
        }
      ],
      "source": [
        "a=10\n",
        "b=9se\n",
        "\n",
        "print(a+b)\n",
        "print(a-b)\n",
        "print(a*b)\n",
        "print(a%b)\n",
        "print(a/b)\n",
        "print(a//b)\n",
        "print(a**b)\n",
        "print(a==b)"
      ]
    },
    {
      "cell_type": "code",
      "source": [
        "T=int(input(\"enter your mark :\"))\n",
        "E=int(input(\"enter your mark :\"))\n",
        "M=int(input(\"enter your mark :\"))\n",
        "S=int(input(\"enter your mark :\"))\n",
        "SS=int(input(\"enter your mark :\"))\n",
        "SUM=T+E+M+S+SS\n",
        "print(SUM)\n",
        "print(SUM/5)"
      ],
      "metadata": {
        "colab": {
          "base_uri": "https://localhost:8080/"
        },
        "id": "EVQxV2LXswso",
        "outputId": "d642349c-c043-4e1b-acf1-b88deea951a9"
      },
      "execution_count": 7,
      "outputs": [
        {
          "output_type": "stream",
          "name": "stdout",
          "text": [
            "enter your mark :69\n",
            "enter your mark :80\n",
            "enter your mark :72\n",
            "enter your mark :74\n",
            "enter your mark :33\n",
            "328\n",
            "65.6\n"
          ]
        }
      ]
    },
    {
      "cell_type": "code",
      "source": [
        "#Age calc\n",
        "cy=int(input(\"enter the current year : \"))\n",
        "dob=int(input(\"enter the dob year : \"))\n",
        "answer =cy-dob\n",
        "print(answer)"
      ],
      "metadata": {
        "colab": {
          "base_uri": "https://localhost:8080/"
        },
        "id": "wkVT4VO9swpB",
        "outputId": "2f507461-51ff-43cb-b75c-496b55be9627"
      },
      "execution_count": 8,
      "outputs": [
        {
          "output_type": "stream",
          "name": "stdout",
          "text": [
            "enter the current year : 2025\n",
            "enter the dob year : 2003\n",
            "22\n"
          ]
        }
      ]
    },
    {
      "cell_type": "code",
      "source": [
        "#celcius to fahrenheit\n",
        "c=int(input(\"enter the celcius : \"))\n",
        "f=(c*9/5)+32\n",
        "print(f)"
      ],
      "metadata": {
        "id": "HdUvs-l8swl1"
      },
      "execution_count": null,
      "outputs": []
    },
    {
      "cell_type": "code",
      "source": [
        "yearly_salary=65000\n",
        "monthly_salary=yearly_salary/12\n",
        "weekly_salary=yearly_salary/52\n",
        "perday_salary=weekly_salary/7\n",
        "perhour_salary=perday_salary/8\n",
        "\n",
        "print(\"yearly salary : \", yearly_salary)\n",
        "print(\"monthly salary : \", round(monthly_salary,2))\n",
        "print(\"weekly salary : \", round(weekly_salary/2))\n",
        "print(\"daily salary : \", round(perday_salary/2))\n",
        "print(\"hourly salary : \", round(perhour_salary/2))\n"
      ],
      "metadata": {
        "colab": {
          "base_uri": "https://localhost:8080/"
        },
        "id": "TKId2RjlswjF",
        "outputId": "069a84f9-0d98-4288-ebce-fa17acf436d3"
      },
      "execution_count": 9,
      "outputs": [
        {
          "output_type": "stream",
          "name": "stdout",
          "text": [
            "yearly salary :  65000\n",
            "monthly salary :  5416.67\n",
            "weekly salary :  625\n",
            "daily salary :  89\n",
            "hourly salary :  11\n"
          ]
        }
      ]
    },
    {
      "cell_type": "code",
      "source": [
        "a=2\n",
        "b=10\n",
        "\n",
        "print(\"before swapping\")\n",
        "print(\"a -\",a)\n",
        "print(\"b -\",b)\n",
        "\n",
        "a+=b #A=A+B\n",
        "print(\"after swapping\")\n",
        "print(\"a -\",a)\n",
        "print(\"b -\",b)"
      ],
      "metadata": {
        "colab": {
          "base_uri": "https://localhost:8080/"
        },
        "id": "77yUfpOYswgJ",
        "outputId": "4a7b9f77-fd41-4556-9680-cf64189599c0"
      },
      "execution_count": 23,
      "outputs": [
        {
          "output_type": "stream",
          "name": "stdout",
          "text": [
            "before swapping\n",
            "a - 2\n",
            "b - 10\n",
            "after swapping\n",
            "a - 12\n",
            "b - 10\n"
          ]
        }
      ]
    },
    {
      "cell_type": "code",
      "source": [
        "a=5\n",
        "b=10\n",
        "\n",
        "print(\"before swapping\")\n",
        "print(\"a -\",a)\n",
        "print(\"b -\",b)\n",
        "\n",
        "#a+=b\n",
        "#b+=a\n",
        "a-=b\n",
        "print(\"after swapping\")\n",
        "print(\"a -\",a)\n",
        "print(\"b -\",b)"
      ],
      "metadata": {
        "colab": {
          "base_uri": "https://localhost:8080/"
        },
        "id": "Ov5cbMVS02CB",
        "outputId": "1a4c61d5-3d93-4362-e835-334dbca1eea9"
      },
      "execution_count": 27,
      "outputs": [
        {
          "output_type": "stream",
          "name": "stdout",
          "text": [
            "before swapping\n",
            "a - 5\n",
            "b - 10\n",
            "after swapping\n",
            "a - -5\n",
            "b - 10\n"
          ]
        }
      ]
    },
    {
      "cell_type": "code",
      "source": [
        "#relational operator\n",
        "a=5\n",
        "b=10\n",
        "print(a==b)\n",
        "print(a+-b)\n",
        "print(a!=b)\n",
        "print(a<=b)\n",
        "print(a>=b)\n",
        "\n"
      ],
      "metadata": {
        "colab": {
          "base_uri": "https://localhost:8080/"
        },
        "id": "btQuf9_ZswdB",
        "outputId": "6b7ecc02-b9f9-468d-f98e-032f350db840"
      },
      "execution_count": 38,
      "outputs": [
        {
          "output_type": "stream",
          "name": "stdout",
          "text": [
            "False\n",
            "-5\n",
            "True\n",
            "True\n",
            "False\n"
          ]
        }
      ]
    },
    {
      "cell_type": "code",
      "source": [
        "#swapping without 3rd var\n",
        "a=5\n",
        "b=10\n",
        "\n",
        "a=a+b #a=5+10=15\n",
        "b=a-b #b=15-10=5\n",
        "a=a-b #a=15-5=10\n",
        "print(a)\n",
        "print(b)\n"
      ],
      "metadata": {
        "colab": {
          "base_uri": "https://localhost:8080/"
        },
        "id": "3GsSx71oswZq",
        "outputId": "67ed5121-e103-4038-90b3-925ece941340"
      },
      "execution_count": 39,
      "outputs": [
        {
          "output_type": "stream",
          "name": "stdout",
          "text": [
            "10\n",
            "5\n"
          ]
        }
      ]
    },
    {
      "cell_type": "code",
      "source": [
        "a=5\n",
        "b=10\n",
        "\n",
        "a=a-b #a=5-10 =-5\n",
        "b=a+b #b=-5+10=5\n",
        "a=a+b #a=-5+5=0\n",
        "print(a)\n",
        "print(b)"
      ],
      "metadata": {
        "colab": {
          "base_uri": "https://localhost:8080/"
        },
        "id": "CcUnv7Zp2Ru8",
        "outputId": "532fd906-fb77-465b-b93b-4ea2be6ff7ee"
      },
      "execution_count": 41,
      "outputs": [
        {
          "output_type": "stream",
          "name": "stdout",
          "text": [
            "0\n",
            "5\n"
          ]
        }
      ]
    },
    {
      "cell_type": "code",
      "source": [
        "#with 3rd var\n",
        "a=5\n",
        "b=10\n",
        "\n",
        "c=a #c=5\n",
        "a=b #a=10\n",
        "b=c #b=5\n",
        "print(a)\n",
        "print(b)\n"
      ],
      "metadata": {
        "id": "F1Or94MS2Rrh"
      },
      "execution_count": null,
      "outputs": []
    },
    {
      "cell_type": "code",
      "source": [
        "#logical operator - and , or , not\n",
        "#and - entire condition should be true\n",
        "#or - either are one should be true\n",
        "#not - input true output false (opp)\n",
        "\n",
        "\n",
        "a=5\n",
        "b=10\n",
        "\n",
        "check = a<=b and a<b\n",
        "print(check)\n"
      ],
      "metadata": {
        "colab": {
          "base_uri": "https://localhost:8080/"
        },
        "id": "6tQAdDkN7Meg",
        "outputId": "c3aff84b-e4d0-4044-a9f6-8bd4fb466476"
      },
      "execution_count": 45,
      "outputs": [
        {
          "output_type": "stream",
          "name": "stdout",
          "text": [
            "True\n"
          ]
        }
      ]
    },
    {
      "cell_type": "code",
      "source": [
        "username = \"sathiya\"\n",
        "password = \"sathiyas\"\n",
        "username = input(\"enter the username : \")\n",
        "password = input(\"enter the password : \")\n",
        "check=username==\"sathiya\" or password==\"sathiyas\"\n",
        "print(check)"
      ],
      "metadata": {
        "colab": {
          "base_uri": "https://localhost:8080/"
        },
        "id": "YwUO8M1eEMRc",
        "outputId": "a007c22b-3cb6-4f1f-bb76-dd78abc18718"
      },
      "execution_count": 50,
      "outputs": [
        {
          "output_type": "stream",
          "name": "stdout",
          "text": [
            "enter the username : sathiya\n",
            "enter the password : sathiya\n",
            "True\n"
          ]
        }
      ]
    },
    {
      "cell_type": "code",
      "source": [
        "a=5\n",
        "b=10\n",
        "\n",
        "check=a>b or a<b\n",
        "print(check)"
      ],
      "metadata": {
        "colab": {
          "base_uri": "https://localhost:8080/"
        },
        "id": "xws3wboAEMN5",
        "outputId": "438bbbe5-3e82-4f03-95e8-2df932346064"
      },
      "execution_count": 49,
      "outputs": [
        {
          "output_type": "stream",
          "name": "stdout",
          "text": [
            "True\n"
          ]
        }
      ]
    },
    {
      "cell_type": "code",
      "source": [
        "a=5\n",
        "b=10\n",
        "\n",
        "check=not(a!=b)\n",
        "print(check)"
      ],
      "metadata": {
        "colab": {
          "base_uri": "https://localhost:8080/"
        },
        "id": "XztYKgstEMLa",
        "outputId": "5bef6a7f-a17d-42af-af7b-4dff224bb78d"
      },
      "execution_count": 54,
      "outputs": [
        {
          "output_type": "stream",
          "name": "stdout",
          "text": [
            "False\n"
          ]
        }
      ]
    },
    {
      "cell_type": "code",
      "source": [
        "data=(1,3,5,7,9)\n",
        "print(6 in data)\n",
        "print(1 in data)"
      ],
      "metadata": {
        "colab": {
          "base_uri": "https://localhost:8080/"
        },
        "id": "bKMFf6rOEMIx",
        "outputId": "92fbf78e-ffbc-4812-9fee-53172d03c969"
      },
      "execution_count": 55,
      "outputs": [
        {
          "output_type": "stream",
          "name": "stdout",
          "text": [
            "False\n",
            "True\n"
          ]
        }
      ]
    },
    {
      "cell_type": "code",
      "source": [
        "data=(\"a\",\"b\",\"c\")\n",
        "print(\"d\" in data)\n",
        "print(\"a\" in data)"
      ],
      "metadata": {
        "colab": {
          "base_uri": "https://localhost:8080/"
        },
        "id": "BgUVDGNLEMGG",
        "outputId": "9053a4c7-5d60-43e7-c944-652428320111"
      },
      "execution_count": 56,
      "outputs": [
        {
          "output_type": "stream",
          "name": "stdout",
          "text": [
            "False\n",
            "True\n"
          ]
        }
      ]
    },
    {
      "cell_type": "code",
      "source": [
        "data=(\"a\",\"b\",\"c\")\n",
        "print(\"d\" not in data)\n",
        "print(\"a\" in data)\n"
      ],
      "metadata": {
        "colab": {
          "base_uri": "https://localhost:8080/"
        },
        "id": "Uc22kzXnJjDq",
        "outputId": "6da227c7-057c-4a0c-f784-f403a718d5bf"
      },
      "execution_count": 57,
      "outputs": [
        {
          "output_type": "stream",
          "name": "stdout",
          "text": [
            "True\n",
            "True\n"
          ]
        }
      ]
    },
    {
      "cell_type": "code",
      "source": [
        "#identify operators - is,not is\n",
        "\n",
        "a=(\"python\"),(\"java\")\n",
        "b=(\"python\"),(\"java\")\n",
        "c=a\n",
        "print(a is c)\n",
        "print(a is not b)\n",
        "print(a is b)\n",
        "print(a==b)\n"
      ],
      "metadata": {
        "colab": {
          "base_uri": "https://localhost:8080/"
        },
        "id": "qk5m9SXbJ-vm",
        "outputId": "c55e89b6-7d69-4ddd-8826-3ffbb33c7f08"
      },
      "execution_count": 60,
      "outputs": [
        {
          "output_type": "stream",
          "name": "stdout",
          "text": [
            "True\n",
            "True\n",
            "False\n",
            "True\n"
          ]
        }
      ]
    },
    {
      "cell_type": "code",
      "source": [],
      "metadata": {
        "id": "V0upULWQJ-oM"
      },
      "execution_count": null,
      "outputs": []
    },
    {
      "cell_type": "code",
      "source": [],
      "metadata": {
        "id": "BGHQpB0oJ-d4"
      },
      "execution_count": null,
      "outputs": []
    },
    {
      "cell_type": "code",
      "source": [],
      "metadata": {
        "id": "bgnoFiSzJ92x"
      },
      "execution_count": null,
      "outputs": []
    }
  ]
}