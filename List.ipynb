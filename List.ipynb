{
  "nbformat": 4,
  "nbformat_minor": 0,
  "metadata": {
    "colab": {
      "provenance": []
    },
    "kernelspec": {
      "name": "python3",
      "display_name": "Python 3"
    },
    "language_info": {
      "name": "python"
    }
  },
  "cells": [
    {
      "cell_type": "code",
      "execution_count": 1,
      "metadata": {
        "colab": {
          "base_uri": "https://localhost:8080/"
        },
        "id": "SKPPdyzZ0pz5",
        "outputId": "7380bfac-58c4-49de-9557-c49b615123c2"
      },
      "outputs": [
        {
          "output_type": "stream",
          "name": "stdout",
          "text": [
            "['Python', 'DA', 'DV', 'Power BI', 'DA', 'DV']\n",
            "<class 'list'>\n",
            "6\n"
          ]
        }
      ],
      "source": [
        "# List - Lists are used to store multiple items in a single variable\n",
        "# List items are orederd, changeable and allow duplicate values\n",
        "\n",
        "check=[\"Python\", \"DA\", \"DV\", \"Power BI\", \"DA\", \"DV\"]\n",
        "print(check)\n",
        "print(type(check))\n",
        "print(len(check))"
      ]
    },
    {
      "cell_type": "code",
      "source": [
        "check=[\"Python\",\n",
        "       15000,\n",
        "       True,\n",
        "       \"DA\",\n",
        "       50000,\n",
        "       True]\n",
        "print(check)"
      ],
      "metadata": {
        "colab": {
          "base_uri": "https://localhost:8080/"
        },
        "id": "gWvbft7j4eQn",
        "outputId": "bac9951d-1648-4281-e0f5-d06711e4c7f8"
      },
      "execution_count": 4,
      "outputs": [
        {
          "output_type": "stream",
          "name": "stdout",
          "text": [
            "['Python', 15000, True, 'DA', 50000, True]\n"
          ]
        }
      ]
    },
    {
      "cell_type": "code",
      "source": [
        "# list() Constructor\n",
        "\n",
        "check=list((\"Python\", \"Java\", \"JavaScript\", \"DA\", \"DS\", \"DV\"))\n",
        "print(check)\n",
        "print(type(check))"
      ],
      "metadata": {
        "colab": {
          "base_uri": "https://localhost:8080/"
        },
        "id": "eunGLcRm4l9m",
        "outputId": "eebcccb4-5f64-4434-9bff-d455f1da2718"
      },
      "execution_count": 3,
      "outputs": [
        {
          "output_type": "stream",
          "name": "stdout",
          "text": [
            "['Python', 'Java', 'JavaScript', 'DA', 'DS', 'DV']\n",
            "<class 'list'>\n"
          ]
        }
      ]
    },
    {
      "cell_type": "code",
      "source": [
        "check=[\"Python\", 15000, True, \"DA\", 50000, True]\n",
        "\n",
        "# Index / Position - 0\n",
        "# Length - 1\n",
        "\n",
        "print(len(check))\n",
        "\n",
        "# print(check[0])\n",
        "# print(check[1])\n",
        "# print(check[2])\n",
        "# print(check[3])\n",
        "# print(check[4])\n",
        "# print(check[5])\n",
        "\n",
        "print(check[-1])\n",
        "print(check[-3])\n",
        "print(check[-2])\n",
        "print(check[-6])\n",
        "print(check[-4])\n",
        "print(check[-5])"
      ],
      "metadata": {
        "colab": {
          "base_uri": "https://localhost:8080/"
        },
        "id": "C1WxuE3a43i-",
        "outputId": "0cffa755-3adb-4941-e35f-c3db382ac8b9"
      },
      "execution_count": 5,
      "outputs": [
        {
          "output_type": "stream",
          "name": "stdout",
          "text": [
            "6\n",
            "True\n",
            "DA\n",
            "50000\n",
            "Python\n",
            "True\n",
            "15000\n"
          ]
        }
      ]
    },
    {
      "cell_type": "code",
      "source": [
        "check=[\"Python\", \"Java\", \"JavaScript\", \"React JS\", \"Redux\", \"DA\", \"DV\", \"Power BI\", \"DS\"]\n",
        "\n",
        "print(check[0:5]) # 2<5 - 2,3,4\n",
        "\n"
      ],
      "metadata": {
        "colab": {
          "base_uri": "https://localhost:8080/"
        },
        "id": "t5cNO6YM5UaR",
        "outputId": "2f72d26e-9db2-46bc-99a7-b0897a95a5b7"
      },
      "execution_count": 6,
      "outputs": [
        {
          "output_type": "stream",
          "name": "stdout",
          "text": [
            "['Python', 'Java', 'JavaScript', 'React JS', 'Redux']\n"
          ]
        }
      ]
    },
    {
      "cell_type": "code",
      "source": [
        "print(check[:5])"
      ],
      "metadata": {
        "colab": {
          "base_uri": "https://localhost:8080/"
        },
        "id": "Jiyi0j_m5gTY",
        "outputId": "4be85c78-922e-4b73-f546-bf52f71d085c"
      },
      "execution_count": 7,
      "outputs": [
        {
          "output_type": "stream",
          "name": "stdout",
          "text": [
            "['Python', 'Java', 'JavaScript', 'React JS', 'Redux']\n"
          ]
        }
      ]
    },
    {
      "cell_type": "code",
      "source": [
        "print(check[:0])"
      ],
      "metadata": {
        "colab": {
          "base_uri": "https://localhost:8080/"
        },
        "id": "qHyhBWeT5h3E",
        "outputId": "2072831a-8abf-4868-fd18-74428ee25ece"
      },
      "execution_count": 8,
      "outputs": [
        {
          "output_type": "stream",
          "name": "stdout",
          "text": [
            "[]\n"
          ]
        }
      ]
    },
    {
      "cell_type": "code",
      "source": [
        "print(check[:-2])"
      ],
      "metadata": {
        "colab": {
          "base_uri": "https://localhost:8080/"
        },
        "id": "O4666d3l5lDw",
        "outputId": "0c000195-bee4-4efb-c904-b1477aed5e5f"
      },
      "execution_count": 9,
      "outputs": [
        {
          "output_type": "stream",
          "name": "stdout",
          "text": [
            "['Python', 'Java', 'JavaScript', 'React JS', 'Redux', 'DA', 'DV']\n"
          ]
        }
      ]
    },
    {
      "cell_type": "code",
      "source": [
        "check=[\"Python\", \"Java\", \"JavaScript\", \"React JS\", \"Redux\", \"DA\", \"DV\", \"Power BI\", \"DS\"]\n",
        "\n",
        "print(check[1])\n",
        "print(check)\n",
        "check[1]=\"ML & DL & NN\"\n",
        "print(check[1])\n",
        "print(check)"
      ],
      "metadata": {
        "colab": {
          "base_uri": "https://localhost:8080/"
        },
        "id": "VZSINLUi5ykV",
        "outputId": "57f09256-e0d4-4cf4-bec4-f231c0cf6bfc"
      },
      "execution_count": 15,
      "outputs": [
        {
          "output_type": "stream",
          "name": "stdout",
          "text": [
            "Java\n",
            "['Python', 'Java', 'JavaScript', 'React JS', 'Redux', 'DA', 'DV', 'Power BI', 'DS']\n",
            "ML & DL & NN\n",
            "['Python', 'ML & DL & NN', 'JavaScript', 'React JS', 'Redux', 'DA', 'DV', 'Power BI', 'DS']\n"
          ]
        }
      ]
    },
    {
      "cell_type": "code",
      "source": [
        "check=[\"Python\", \"Java\", \"JavaScript\", \"React JS\", \"Redux\", \"DA\", \"DV\", \"Power BI\", \"DS\"]\n",
        "\n",
        "print(check)\n",
        "check[1]=\"ML & DL & NN\"\n",
        "print(check[1])\n",
        "print(check)"
      ],
      "metadata": {
        "colab": {
          "base_uri": "https://localhost:8080/"
        },
        "id": "SP7UXcLl6_MH",
        "outputId": "2be656c9-c09a-41fb-cc9c-d10532b59372"
      },
      "execution_count": 16,
      "outputs": [
        {
          "output_type": "stream",
          "name": "stdout",
          "text": [
            "['Python', 'Java', 'JavaScript', 'React JS', 'Redux', 'DA', 'DV', 'Power BI', 'DS']\n",
            "ML & DL & NN\n",
            "['Python', 'ML & DL & NN', 'JavaScript', 'React JS', 'Redux', 'DA', 'DV', 'Power BI', 'DS']\n"
          ]
        }
      ]
    },
    {
      "cell_type": "code",
      "source": [
        "check=[\"Python\", \"Java\", \"JavaScript\", \"React JS\", \"Redux\", \"DA\"]\n",
        "\n",
        "print(check)\n",
        "check[1:3]=[\"ML\", \"DL\"]\n",
        "# 1<3 - 1,2\n",
        "print(check)"
      ],
      "metadata": {
        "id": "uRyo_yCQ68Z2"
      },
      "execution_count": null,
      "outputs": []
    },
    {
      "cell_type": "code",
      "source": [
        "check=[\"python\", \"Java\", \"JavaScript\", \"React JS\", \"Redux\", \"DA\"]\n",
        "\n",
        "check.insert(1, \"Power BI\")\n",
        "print(check)"
      ],
      "metadata": {
        "colab": {
          "base_uri": "https://localhost:8080/"
        },
        "id": "MRlyTrUL9pLa",
        "outputId": "fbbece56-5c3a-49ef-958f-3c77f13b4fab"
      },
      "execution_count": 20,
      "outputs": [
        {
          "output_type": "stream",
          "name": "stdout",
          "text": [
            "['python', 'Power BI', 'Java', 'JavaScript', 'React JS', 'Redux', 'DA']\n"
          ]
        }
      ]
    },
    {
      "cell_type": "code",
      "source": [
        "check=[\"Python\", \"Java\", \"JavaScript\", \"React JS\", \"Redux\", \"DA\"]\n",
        "\n",
        "check.append(\"Power BI\")\n",
        "print(check)"
      ],
      "metadata": {
        "colab": {
          "base_uri": "https://localhost:8080/"
        },
        "id": "-Ws-Ja9X-ICE",
        "outputId": "4792300c-6679-4e65-bc46-b9e66e902ea5"
      },
      "execution_count": 21,
      "outputs": [
        {
          "output_type": "stream",
          "name": "stdout",
          "text": [
            "['Python', 'Java', 'JavaScript', 'React JS', 'Redux', 'DA', 'Power BI']\n"
          ]
        }
      ]
    },
    {
      "cell_type": "code",
      "source": [
        "a=[\"Python\", \"Java\", \"JavaScript\", \"React JS\", \"Redux\", \"DA\"]\n",
        "\n",
        "a.append(\"Power BI\")\n",
        "print(a)"
      ],
      "metadata": {
        "colab": {
          "base_uri": "https://localhost:8080/"
        },
        "id": "_V_lM3hu-NWX",
        "outputId": "3083cc3d-13bc-4952-bb15-edda781cf236"
      },
      "execution_count": 22,
      "outputs": [
        {
          "output_type": "stream",
          "name": "stdout",
          "text": [
            "['Python', 'Java', 'JavaScript', 'React JS', 'Redux', 'DA', 'Power BI']\n"
          ]
        }
      ]
    },
    {
      "cell_type": "code",
      "source": [
        "L1=[\"Python\", \"Java\", \"React JS\", \"Power BI\"]\n",
        "L2=[15000, 15000, 30000, 30000]\n",
        "print(L1)\n",
        "L1.extend(L2)\n",
        "print(L1)"
      ],
      "metadata": {
        "colab": {
          "base_uri": "https://localhost:8080/"
        },
        "id": "oWlyQ5s3-VJ5",
        "outputId": "abf90a4d-a392-4023-ff69-f91a38948ae5"
      },
      "execution_count": 25,
      "outputs": [
        {
          "output_type": "stream",
          "name": "stdout",
          "text": [
            "['Python', 'Java', 'React JS', 'Power BI']\n",
            "['Python', 'Java', 'React JS', 'Power BI', 15000, 15000, 30000, 30000]\n"
          ]
        }
      ]
    },
    {
      "cell_type": "code",
      "source": [
        "check=[\"Python\", \"Java\", \"JavaScript\", \"React js\", \"node js\", \"DA\"]\n",
        "\n",
        "print(check)\n",
        "check.remove(\"Java\")\n",
        "print(check)"
      ],
      "metadata": {
        "colab": {
          "base_uri": "https://localhost:8080/"
        },
        "id": "eKryktz6-gDj",
        "outputId": "4a19eb7b-7cef-4813-94de-3f14b2d63080"
      },
      "execution_count": 26,
      "outputs": [
        {
          "output_type": "stream",
          "name": "stdout",
          "text": [
            "['Python', 'Java', 'JavaScript', 'React js', 'node js', 'DA']\n",
            "['Python', 'JavaScript', 'React js', 'node js', 'DA']\n"
          ]
        }
      ]
    },
    {
      "cell_type": "code",
      "source": [
        "check=[\"Python\", \"Java\", \"JavaScript\", \"React JS\", \"node js\", \"DA\"]\n",
        "\n",
        "print(check)\n",
        "print(check.pop(-2))\n",
        "print(check)"
      ],
      "metadata": {
        "colab": {
          "base_uri": "https://localhost:8080/"
        },
        "id": "7g5Gl-Jx-sa2",
        "outputId": "b0b62a10-4a69-4e0b-db2f-426854a926bc"
      },
      "execution_count": 28,
      "outputs": [
        {
          "output_type": "stream",
          "name": "stdout",
          "text": [
            "['Python', 'Java', 'JavaScript', 'React JS', 'node js', 'DA']\n",
            "node js\n",
            "['Python', 'Java', 'JavaScript', 'React JS', 'DA']\n"
          ]
        }
      ]
    },
    {
      "cell_type": "code",
      "source": [
        "check=[\"Python\", \"Java\", \"JavaScript\", \"React JS\", \"Redux\", \"DA\"]\n",
        "\n",
        "print(check)\n",
        "print(check.pop(3))\n",
        "print(check)"
      ],
      "metadata": {
        "colab": {
          "base_uri": "https://localhost:8080/"
        },
        "id": "F7gwGNuo-8KI",
        "outputId": "ae822f53-445d-4238-f8ef-1b849ccd8504"
      },
      "execution_count": 30,
      "outputs": [
        {
          "output_type": "stream",
          "name": "stdout",
          "text": [
            "['Python', 'Java', 'JavaScript', 'React JS', 'Redux', 'DA']\n",
            "React JS\n",
            "['Python', 'Java', 'JavaScript', 'Redux', 'DA']\n"
          ]
        }
      ]
    },
    {
      "cell_type": "code",
      "source": [
        "check=[\"Python\", \"Java\", \"JavaScript\", \"React JS\", \"Redux\", \"DA\"]\n",
        "\n",
        "del check[-4,0]\n",
        "print(check)"
      ],
      "metadata": {
        "colab": {
          "base_uri": "https://localhost:8080/",
          "height": 193
        },
        "id": "qwnAl7PC_Nb8",
        "outputId": "d3962211-20a0-4e88-bab1-f817d2052fff"
      },
      "execution_count": 34,
      "outputs": [
        {
          "output_type": "error",
          "ename": "TypeError",
          "evalue": "list indices must be integers or slices, not tuple",
          "traceback": [
            "\u001b[0;31m---------------------------------------------------------------------------\u001b[0m",
            "\u001b[0;31mTypeError\u001b[0m                                 Traceback (most recent call last)",
            "\u001b[0;32m/tmp/ipython-input-517608686.py\u001b[0m in \u001b[0;36m<cell line: 0>\u001b[0;34m()\u001b[0m\n\u001b[1;32m      1\u001b[0m \u001b[0mcheck\u001b[0m\u001b[0;34m=\u001b[0m\u001b[0;34m[\u001b[0m\u001b[0;34m\"Python\"\u001b[0m\u001b[0;34m,\u001b[0m \u001b[0;34m\"Java\"\u001b[0m\u001b[0;34m,\u001b[0m \u001b[0;34m\"JavaScript\"\u001b[0m\u001b[0;34m,\u001b[0m \u001b[0;34m\"React JS\"\u001b[0m\u001b[0;34m,\u001b[0m \u001b[0;34m\"Redux\"\u001b[0m\u001b[0;34m,\u001b[0m \u001b[0;34m\"DA\"\u001b[0m\u001b[0;34m]\u001b[0m\u001b[0;34m\u001b[0m\u001b[0;34m\u001b[0m\u001b[0m\n\u001b[1;32m      2\u001b[0m \u001b[0;34m\u001b[0m\u001b[0m\n\u001b[0;32m----> 3\u001b[0;31m \u001b[0;32mdel\u001b[0m \u001b[0mcheck\u001b[0m\u001b[0;34m[\u001b[0m\u001b[0;34m-\u001b[0m\u001b[0;36m4\u001b[0m\u001b[0;34m,\u001b[0m\u001b[0;36m0\u001b[0m\u001b[0;34m]\u001b[0m\u001b[0;34m\u001b[0m\u001b[0;34m\u001b[0m\u001b[0m\n\u001b[0m\u001b[1;32m      4\u001b[0m \u001b[0mprint\u001b[0m\u001b[0;34m(\u001b[0m\u001b[0mcheck\u001b[0m\u001b[0;34m)\u001b[0m\u001b[0;34m\u001b[0m\u001b[0;34m\u001b[0m\u001b[0m\n",
            "\u001b[0;31mTypeError\u001b[0m: list indices must be integers or slices, not tuple"
          ]
        }
      ]
    },
    {
      "cell_type": "code",
      "source": [
        "check=[\"Python\", \"Java\", \"JavaScript\", \"React JS\", \"Redux\", \"DA\"]\n",
        "\n",
        "del check[-4]\n",
        "print(check)"
      ],
      "metadata": {
        "colab": {
          "base_uri": "https://localhost:8080/"
        },
        "id": "dd3r_r-j_oHK",
        "outputId": "202896cd-e092-479a-a041-0c98e1c93ee5"
      },
      "execution_count": 35,
      "outputs": [
        {
          "output_type": "stream",
          "name": "stdout",
          "text": [
            "['Python', 'Java', 'React JS', 'Redux', 'DA']\n"
          ]
        }
      ]
    },
    {
      "cell_type": "code",
      "source": [
        "check=[\"Python\", \"Java\", \"JavaScript\", \"React JS\", \"Redux\", \"DA\"]\n",
        "\n",
        "print(check)\n",
        "check.clear()\n",
        "print(check)"
      ],
      "metadata": {
        "colab": {
          "base_uri": "https://localhost:8080/"
        },
        "id": "wjL6TRED_wxT",
        "outputId": "39696c06-d2d9-4b9a-b119-677e5725ae1d"
      },
      "execution_count": 38,
      "outputs": [
        {
          "output_type": "stream",
          "name": "stdout",
          "text": [
            "['Python', 'Java', 'JavaScript', 'React JS', 'Redux', 'DA']\n",
            "[]\n"
          ]
        }
      ]
    },
    {
      "cell_type": "code",
      "source": [
        "check=[\"Python\", \"Java\", \"JavaScript\", \"React JS\", \"Redux\", \"DA\"]\n",
        "\n",
        "for i in check:\n",
        "  print(i)"
      ],
      "metadata": {
        "colab": {
          "base_uri": "https://localhost:8080/"
        },
        "id": "XVketex0_6Gq",
        "outputId": "1077be5d-db2e-48f8-835b-d6e6080b408c"
      },
      "execution_count": 39,
      "outputs": [
        {
          "output_type": "stream",
          "name": "stdout",
          "text": [
            "Python\n",
            "Java\n",
            "JavaScript\n",
            "React JS\n",
            "Redux\n",
            "DA\n"
          ]
        }
      ]
    },
    {
      "cell_type": "code",
      "source": [
        "check=[\"Python\", \"Java\", \"JavaScript\", \"React JS\", \"Redux\", \"DA\"]\n",
        "\n",
        "[print(i) for i in check]"
      ],
      "metadata": {
        "colab": {
          "base_uri": "https://localhost:8080/"
        },
        "id": "bksqd1ZeImMH",
        "outputId": "ea77d4bc-eb4b-4bca-8d06-5d9fd03ce729"
      },
      "execution_count": 55,
      "outputs": [
        {
          "output_type": "stream",
          "name": "stdout",
          "text": [
            "Python\n",
            "Java\n",
            "JavaScript\n",
            "React JS\n",
            "Redux\n",
            "DA\n"
          ]
        },
        {
          "output_type": "execute_result",
          "data": {
            "text/plain": [
              "[None, None, None, None, None, None]"
            ]
          },
          "metadata": {},
          "execution_count": 55
        }
      ]
    },
    {
      "cell_type": "code",
      "source": [
        "check=[\"Python\", \"Java\", \"JavaScript\", \"React JS\", \"Redux\", \"DA\"]\n",
        "for i in check:\n",
        "  print(i)"
      ],
      "metadata": {
        "colab": {
          "base_uri": "https://localhost:8080/"
        },
        "id": "D4VcHEKfdCvw",
        "outputId": "eea63554-61fa-4d47-c294-a18f1d0e222f"
      },
      "execution_count": 2,
      "outputs": [
        {
          "output_type": "stream",
          "name": "stdout",
          "text": [
            "Python\n",
            "Java\n",
            "JavaScript\n",
            "React JS\n",
            "Redux\n",
            "DA\n"
          ]
        }
      ]
    },
    {
      "cell_type": "code",
      "source": [
        "check=[\"Python\", \"Java\", \"JavaScript\", \"React JS\", \"Redux\", \"DA\"]\n",
        "\n",
        "for i in range(len(check)):\n",
        "  print(check[i])\n",
        "  print(i,\" - \" ,check[i])"
      ],
      "metadata": {
        "colab": {
          "base_uri": "https://localhost:8080/"
        },
        "id": "V6CixxLtdCsU",
        "outputId": "777fd659-5476-4f36-979b-fefef20444a3"
      },
      "execution_count": 4,
      "outputs": [
        {
          "output_type": "stream",
          "name": "stdout",
          "text": [
            "Python\n",
            "0  -  Python\n",
            "Java\n",
            "1  -  Java\n",
            "JavaScript\n",
            "2  -  JavaScript\n",
            "React JS\n",
            "3  -  React JS\n",
            "Redux\n",
            "4  -  Redux\n",
            "DA\n",
            "5  -  DA\n"
          ]
        }
      ]
    },
    {
      "cell_type": "code",
      "source": [
        "check=[\"Python\", \"Java\", \"JavaScript\", \"React JS\", \"Redux\", \"DA\"]\n",
        "\n",
        "for i in range(len(check)):\n",
        "  print(i,\" - \" ,check[i])"
      ],
      "metadata": {
        "colab": {
          "base_uri": "https://localhost:8080/"
        },
        "id": "huL5wOBvdCpp",
        "outputId": "9e234952-315b-4a16-82c5-e37ec6aefe4d"
      },
      "execution_count": 5,
      "outputs": [
        {
          "output_type": "stream",
          "name": "stdout",
          "text": [
            "0  -  Python\n",
            "1  -  Java\n",
            "2  -  JavaScript\n",
            "3  -  React JS\n",
            "4  -  Redux\n",
            "5  -  DA\n"
          ]
        }
      ]
    },
    {
      "cell_type": "code",
      "source": [
        "check=[\"Python\", \"Java\", \"JavaScript\", \"React JS\", \"Redux\", \"DA\"]\n",
        "\n",
        "i=1\n",
        "while(i<len(check)):\n",
        "  print(i, \" - \", check[i])\n",
        "  i=i+2"
      ],
      "metadata": {
        "colab": {
          "base_uri": "https://localhost:8080/"
        },
        "id": "5nWPPE9kdCmr",
        "outputId": "78827a3a-0392-40d1-ca2b-dc0605cfc636"
      },
      "execution_count": 8,
      "outputs": [
        {
          "output_type": "stream",
          "name": "stdout",
          "text": [
            "1  -  Java\n",
            "3  -  React JS\n",
            "5  -  DA\n"
          ]
        }
      ]
    },
    {
      "cell_type": "code",
      "source": [
        "check=[\"Python\", \"Java\", \"JavaScript\", \"React JS\", \"Redux\", \"DA\"]\n",
        "\n",
        "i=0\n",
        "while(i<len(check)):\n",
        "  print(i, \" - \", check[i])\n",
        "  i=i+2"
      ],
      "metadata": {
        "colab": {
          "base_uri": "https://localhost:8080/"
        },
        "id": "FHytxyAPdCfp",
        "outputId": "3945c6a3-827a-4efb-bc77-4c126822224c"
      },
      "execution_count": 9,
      "outputs": [
        {
          "output_type": "stream",
          "name": "stdout",
          "text": [
            "0  -  Python\n",
            "2  -  JavaScript\n",
            "4  -  Redux\n"
          ]
        }
      ]
    },
    {
      "cell_type": "code",
      "source": [
        "check=[\"Python\", \"Java\", \"JavaScript\", \"React JS\", \"Redux\", \"DA\"]\n",
        "\n",
        "i=0\n",
        "while(i<len(check)):\n",
        "  print(i, \" - \", check[i])\n",
        "  i=i+1"
      ],
      "metadata": {
        "colab": {
          "base_uri": "https://localhost:8080/"
        },
        "id": "PXoIELMRdCTp",
        "outputId": "33011a0e-88a0-4e63-9f60-691444d4264a"
      },
      "execution_count": 13,
      "outputs": [
        {
          "output_type": "stream",
          "name": "stdout",
          "text": [
            "0  -  Python\n",
            "1  -  Java\n",
            "2  -  JavaScript\n",
            "3  -  React JS\n",
            "4  -  Redux\n",
            "5  -  DA\n"
          ]
        }
      ]
    },
    {
      "cell_type": "code",
      "source": [
        "check=[\"Python\", \"Java\", \"JavaScript\", \"React JS\", \"Redux\", \"DA\"]\n",
        "\n",
        "check.sort()\n",
        "print(check)"
      ],
      "metadata": {
        "colab": {
          "base_uri": "https://localhost:8080/"
        },
        "id": "DsVLr9SUfL3Y",
        "outputId": "ba67c2db-2189-4e2d-81d1-9f3aecfbc6b0"
      },
      "execution_count": 17,
      "outputs": [
        {
          "output_type": "stream",
          "name": "stdout",
          "text": [
            "['DA', 'Java', 'JavaScript', 'Python', 'React JS', 'Redux']\n"
          ]
        }
      ]
    },
    {
      "cell_type": "code",
      "source": [
        "check=[1000,10,100,1,300,50,30,20]\n",
        "check.sort()\n",
        "print(check)"
      ],
      "metadata": {
        "colab": {
          "base_uri": "https://localhost:8080/"
        },
        "id": "PEBh_v4efbb3",
        "outputId": "b1f2ef54-5c0f-4f9f-c867-70eb677c3aa0"
      },
      "execution_count": 20,
      "outputs": [
        {
          "output_type": "stream",
          "name": "stdout",
          "text": [
            "[1, 10, 20, 30, 50, 100, 300, 1000]\n"
          ]
        }
      ]
    },
    {
      "cell_type": "code",
      "source": [
        "check=[\"Python\", \"Java\", \"JavaScript\", \"React JS\", \"Redux\", \"DA\"]\n",
        "\n",
        "check.sort(reverse=True)\n",
        "print(check)"
      ],
      "metadata": {
        "colab": {
          "base_uri": "https://localhost:8080/"
        },
        "id": "yfE8igI1fbYZ",
        "outputId": "b6bff71c-6ab0-408d-de5f-30baf578517d"
      },
      "execution_count": 21,
      "outputs": [
        {
          "output_type": "stream",
          "name": "stdout",
          "text": [
            "['Redux', 'React JS', 'Python', 'JavaScript', 'Java', 'DA']\n"
          ]
        }
      ]
    },
    {
      "cell_type": "code",
      "source": [
        "check=[\"Python\", \"Java\", \"JavaScript\", \"React JS\", \"Redux\", \"DA\"]\n",
        "\n",
        "check.sort(reverse=False)\n",
        "print(check)"
      ],
      "metadata": {
        "colab": {
          "base_uri": "https://localhost:8080/"
        },
        "id": "jDxUr-DxfbVy",
        "outputId": "e36bb486-f5ba-428e-a481-adba9e2d8489"
      },
      "execution_count": 23,
      "outputs": [
        {
          "output_type": "stream",
          "name": "stdout",
          "text": [
            "['DA', 'Java', 'JavaScript', 'Python', 'React JS', 'Redux']\n"
          ]
        }
      ]
    },
    {
      "cell_type": "code",
      "source": [
        "check=[\"Python\", \"Java\", \"JavaScript\", \"React JS\", \"Redux\", \"DA\", \"ds\", \"dv\", \"computer vision\", \"open cv\"]\n",
        "check.sort(key=str.lower)\n",
        "print(check)"
      ],
      "metadata": {
        "colab": {
          "base_uri": "https://localhost:8080/"
        },
        "id": "H736yQnpfbS6",
        "outputId": "7f7b90b5-6fee-49b2-f698-48e024f62867"
      },
      "execution_count": 24,
      "outputs": [
        {
          "output_type": "stream",
          "name": "stdout",
          "text": [
            "['computer vision', 'DA', 'ds', 'dv', 'Java', 'JavaScript', 'open cv', 'Python', 'React JS', 'Redux']\n"
          ]
        }
      ]
    },
    {
      "cell_type": "code",
      "source": [
        "check=[\"Python\", \"Java\", \"JavaScript\", \"React JS\", \"Redux\", \"DA\"]\n",
        "\n",
        "a=list(check)\n",
        "print(a)"
      ],
      "metadata": {
        "colab": {
          "base_uri": "https://localhost:8080/"
        },
        "id": "RgxyQxE7fbP-",
        "outputId": "4d051011-e024-4dc8-b461-9eaf7e9a12bb"
      },
      "execution_count": 27,
      "outputs": [
        {
          "output_type": "stream",
          "name": "stdout",
          "text": [
            "['Python', 'Java', 'JavaScript', 'React JS', 'Redux', 'DA']\n"
          ]
        }
      ]
    },
    {
      "cell_type": "code",
      "source": [
        "check=[\"Python\", \"Java\", \"JavaScript\", \"React JS\", \"Redux\", \"DA\", \"Python\", \"Python\"]\n",
        "\n",
        "answer=check.count(\"DA\")\n",
        "print(answer)"
      ],
      "metadata": {
        "colab": {
          "base_uri": "https://localhost:8080/"
        },
        "id": "6PHteLQHfbNc",
        "outputId": "78e5521d-8989-426e-8f71-8b8180b22a9f"
      },
      "execution_count": 28,
      "outputs": [
        {
          "output_type": "stream",
          "name": "stdout",
          "text": [
            "1\n"
          ]
        }
      ]
    },
    {
      "cell_type": "code",
      "source": [
        "check=[\"Python\", \"Java\", \"JavaScript\", \"React JS\", \"Redux\", \"DA\", \"Python\", \"Python\"]\n",
        "\n",
        "answer=check.count(\"Python\")\n",
        "print(answer)"
      ],
      "metadata": {
        "colab": {
          "base_uri": "https://localhost:8080/"
        },
        "id": "c4DGe7ckfbKM",
        "outputId": "96fe7a02-4f28-4cd6-8a75-cd381ddf6e1b"
      },
      "execution_count": 29,
      "outputs": [
        {
          "output_type": "stream",
          "name": "stdout",
          "text": [
            "3\n"
          ]
        }
      ]
    }
  ]
}