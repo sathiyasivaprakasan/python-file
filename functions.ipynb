{
  "nbformat": 4,
  "nbformat_minor": 0,
  "metadata": {
    "colab": {
      "provenance": []
    },
    "kernelspec": {
      "name": "python3",
      "display_name": "Python 3"
    },
    "language_info": {
      "name": "python"
    }
  },
  "cells": [
    {
      "cell_type": "code",
      "execution_count": 2,
      "metadata": {
        "colab": {
          "base_uri": "https://localhost:8080/"
        },
        "id": "CgDBvwpFrfaM",
        "outputId": "5c265051-929b-4e98-866c-982cfdeb7f51"
      },
      "outputs": [
        {
          "output_type": "stream",
          "name": "stdout",
          "text": [
            "welcom to credo systemz\n"
          ]
        }
      ],
      "source": [
        "# Functions - A Functions is a block of code which only runs when its called. we can pass the data, known as parameters, into a functions.\n",
        "# A fucntions can return data as a result\n",
        "#syntax\n",
        "def display():\n",
        "  print(\"welcom to credo systemz\")\n",
        "display()"
      ]
    },
    {
      "cell_type": "code",
      "source": [
        "#without any parameters,without return type\n",
        "def add():\n",
        "  a=5\n",
        "  b=10\n",
        "  c=a+b\n",
        "  print(c)\n",
        "add()"
      ],
      "metadata": {
        "colab": {
          "base_uri": "https://localhost:8080/"
        },
        "id": "t0uFBmtGy4_Y",
        "outputId": "f6fb9090-e08a-41bc-bf45-74ae10a367f1"
      },
      "execution_count": 8,
      "outputs": [
        {
          "output_type": "stream",
          "name": "stdout",
          "text": [
            "15\n"
          ]
        }
      ]
    },
    {
      "cell_type": "code",
      "source": [
        "#with parameters,without return type\n",
        "def multiple(a,b,c,d,e):\n",
        "  multiple=a*b*c*d*e\n",
        "  avg=multiple/5\n",
        "  print(multiple)\n",
        "  print(avg)\n",
        "multiple(52,65,78,98,91)"
      ],
      "metadata": {
        "colab": {
          "base_uri": "https://localhost:8080/"
        },
        "id": "61rugdXNztgR",
        "outputId": "94591e76-3d6a-4803-f653-f0f6589f8549"
      },
      "execution_count": 11,
      "outputs": [
        {
          "output_type": "stream",
          "name": "stdout",
          "text": [
            "2351141520\n",
            "470228304.0\n"
          ]
        }
      ]
    },
    {
      "cell_type": "code",
      "source": [
        "def add(a,b,c,d,e):\n",
        "  sum=a+b+c+d+e\n",
        "  avg=sum/5\n",
        "  print(sum)\n",
        "  print(avg)\n",
        "add(90,80,99,99,99)"
      ],
      "metadata": {
        "colab": {
          "base_uri": "https://localhost:8080/"
        },
        "id": "ebM4bNm_02OX",
        "outputId": "3582e518-9dca-436f-862b-b099e44d3c45"
      },
      "execution_count": 12,
      "outputs": [
        {
          "output_type": "stream",
          "name": "stdout",
          "text": [
            "467\n",
            "93.4\n"
          ]
        }
      ]
    },
    {
      "cell_type": "code",
      "source": [
        "# without parameters, with return type\n",
        "\n",
        "def add():\n",
        "  a=90\n",
        "  b=90\n",
        "  return a+b\n",
        "print(add())"
      ],
      "metadata": {
        "colab": {
          "base_uri": "https://localhost:8080/"
        },
        "id": "qWe5wuJd097R",
        "outputId": "36b0e9cb-f0b5-4b1c-bc59-1d425f5b0c66"
      },
      "execution_count": 13,
      "outputs": [
        {
          "output_type": "stream",
          "name": "stdout",
          "text": [
            "180\n"
          ]
        }
      ]
    },
    {
      "cell_type": "code",
      "source": [
        "# with parameters, with return type\n",
        "\n",
        "def add(a,b,c,d,e):\n",
        "  total=a+b+c+d+e\n",
        "  return total\n",
        "print(add(90,80,99,99,99))"
      ],
      "metadata": {
        "colab": {
          "base_uri": "https://localhost:8080/"
        },
        "id": "ap-LHHcV0-oo",
        "outputId": "34d7ade9-01f1-4cef-d492-8e416b246407"
      },
      "execution_count": 14,
      "outputs": [
        {
          "output_type": "stream",
          "name": "stdout",
          "text": [
            "467\n"
          ]
        }
      ]
    },
    {
      "cell_type": "code",
      "source": [
        "def add(a,b):\n",
        "  print(a+b)\n",
        "\n",
        "def sub(a,b):\n",
        "  print(a-b)\n",
        "\n",
        "def mul(a,b):\n",
        "  print(a*b)\n",
        "\n",
        "\n",
        "add(10,5)\n",
        "sub(10,5)\n",
        "mul(10,5)"
      ],
      "metadata": {
        "colab": {
          "base_uri": "https://localhost:8080/"
        },
        "id": "iMyqziZ70_Mv",
        "outputId": "bff17df2-a26c-48da-9c28-6183ebfa5472"
      },
      "execution_count": 16,
      "outputs": [
        {
          "output_type": "stream",
          "name": "stdout",
          "text": [
            "15\n",
            "5\n",
            "50\n"
          ]
        }
      ]
    },
    {
      "cell_type": "code",
      "source": [
        "# (*) Arbitrary Arguments\n",
        "\n",
        "def display(*course):\n",
        "   print(course)\n",
        "   print(course[0])\n",
        "   print(course[1])\n",
        "   print(course[2])\n",
        "   print(course[3])\n",
        "display(\"Python\", \"Java\", \"JavaScript\", \"React JS\")\n",
        "\n"
      ],
      "metadata": {
        "colab": {
          "base_uri": "https://localhost:8080/"
        },
        "id": "pVh26uHH0_4C",
        "outputId": "8cb6f9fb-7f67-4f0e-f1a1-4f0f54a0a37e"
      },
      "execution_count": 25,
      "outputs": [
        {
          "output_type": "stream",
          "name": "stdout",
          "text": [
            "('Python', 'Java', 'JavaScript', 'React JS')\n",
            "Python\n",
            "Java\n",
            "JavaScript\n",
            "React JS\n"
          ]
        }
      ]
    },
    {
      "cell_type": "code",
      "source": [
        "def display(*Fruits):\n",
        "   print(Fruits)\n",
        "   print(Fruits[0])\n",
        "   print(Fruits[1])\n",
        "   print(Fruits[2])\n",
        "   print(Fruits[3])\n",
        "display(\"Mango\", \"Banana\", \"Apple\", \"Orange\")\n",
        ""
      ],
      "metadata": {
        "colab": {
          "base_uri": "https://localhost:8080/"
        },
        "id": "TtAPYxNo2E5v",
        "outputId": "9ae1031b-137f-4748-88fc-09403951387f"
      },
      "execution_count": 26,
      "outputs": [
        {
          "output_type": "stream",
          "name": "stdout",
          "text": [
            "('Mango', 'Banana', 'Apple', 'Orange')\n",
            "Mango\n",
            "Banana\n",
            "Apple\n",
            "Orange\n"
          ]
        }
      ]
    },
    {
      "cell_type": "code",
      "source": [
        "def display(*num):\n",
        "   print(num)\n",
        "   print(num[0])\n",
        "   print(num[1])\n",
        "   print(num[2])\n",
        "   print(num[3])\n",
        "display(1234, 2345, 3456, 4567)"
      ],
      "metadata": {
        "colab": {
          "base_uri": "https://localhost:8080/"
        },
        "id": "VsML8PCV2Gbs",
        "outputId": "65d7ffd1-4a21-43f6-a5c0-f58c33d2855a"
      },
      "execution_count": 29,
      "outputs": [
        {
          "output_type": "stream",
          "name": "stdout",
          "text": [
            "(1234, 2345, 3456, 4567)\n",
            "1234\n",
            "2345\n",
            "3456\n",
            "4567\n"
          ]
        }
      ]
    },
    {
      "cell_type": "code",
      "source": [
        "# Keyword Arguments - (key=value)\n",
        "\n",
        "def display(C1,C2,C3,C4,C5):\n",
        "  print(C1)\n",
        "  print(C2)\n",
        "  print(C3)\n",
        "  print(C4)\n",
        "  print(C5)\n",
        "display(C1=\"FSD\", C2=\"DA\", C3=\"DS\", C4=\"DM\", C5=\"PMP\")"
      ],
      "metadata": {
        "colab": {
          "base_uri": "https://localhost:8080/"
        },
        "id": "jj537w_52GYI",
        "outputId": "2b7d88d2-0828-4e52-bb9b-1d2e44d04f13"
      },
      "execution_count": 32,
      "outputs": [
        {
          "output_type": "stream",
          "name": "stdout",
          "text": [
            "FSD\n",
            "DA\n",
            "DS\n",
            "DM\n",
            "PMP\n"
          ]
        }
      ]
    },
    {
      "cell_type": "code",
      "source": [
        "# (**)  Keyword Arguments - Arbitrary Keyword Arguments\n",
        "\n",
        "def display(**course):\n",
        "  print(course)\n",
        "  print(course[\"C1\"])\n",
        "  print(course[\"C2\"])\n",
        "  print(course[\"C3\"])\n",
        "  print(course[\"C4\"])\n",
        "  print(course[\"C5\"])\n",
        "display(C1=\"FSD\", C2=\"DA\", C3=\"DS\", C4=\"DM\", C5=\"PMP\")"
      ],
      "metadata": {
        "colab": {
          "base_uri": "https://localhost:8080/"
        },
        "id": "iTBwq01w2GVe",
        "outputId": "e02bd05f-8eb9-4fe1-bdfa-d04a3662d067"
      },
      "execution_count": 33,
      "outputs": [
        {
          "output_type": "stream",
          "name": "stdout",
          "text": [
            "{'C1': 'FSD', 'C2': 'DA', 'C3': 'DS', 'C4': 'DM', 'C5': 'PMP'}\n",
            "FSD\n",
            "DA\n",
            "DS\n",
            "DM\n",
            "PMP\n"
          ]
        }
      ]
    },
    {
      "cell_type": "code",
      "source": [
        "def display(**course):\n",
        "  print(course)\n",
        "  print(course[\"C1\"])\n",
        "  print(course[\"C2\"])\n",
        "  print(course[\"C3\"])\n",
        "  print(course[\"C4\"])\n",
        "  print(course[\"C5\"])\n",
        "display(C1=\"AI\", C2=\"DA\", C3=\"DS\", C4=\"UI\", C5=\"UX\")"
      ],
      "metadata": {
        "colab": {
          "base_uri": "https://localhost:8080/"
        },
        "id": "BOUhUCbv2GS4",
        "outputId": "923377ad-60f2-407f-83cd-de36d2fa005a"
      },
      "execution_count": 36,
      "outputs": [
        {
          "output_type": "stream",
          "name": "stdout",
          "text": [
            "{'C1': 'AI', 'C2': 'DA', 'C3': 'DS', 'C4': 'UI', 'C5': 'UX'}\n",
            "AI\n",
            "DA\n",
            "DS\n",
            "UI\n",
            "UX\n"
          ]
        }
      ]
    },
    {
      "cell_type": "code",
      "source": [
        "# Default Parameter Value\n",
        "\n",
        "def display(User=\"-\"):\n",
        "  print(\"Welcome to the Game : \",User)\n",
        "display(\"Sridhar\")\n",
        "display(\"Sasi\")\n",
        "display(\"Abi\")\n",
        "display()\n",
        "display(\"Priya\")\n",
        "display()"
      ],
      "metadata": {
        "colab": {
          "base_uri": "https://localhost:8080/"
        },
        "id": "_gzUgAfo2GQB",
        "outputId": "441c8c2e-d5ca-498c-a3ce-358861512c71"
      },
      "execution_count": 38,
      "outputs": [
        {
          "output_type": "stream",
          "name": "stdout",
          "text": [
            "Welcome to the Game :  Sridhar\n",
            "Welcome to the Game :  Sasi\n",
            "Welcome to the Game :  Abi\n",
            "Welcome to the Game :  -\n",
            "Welcome to the Game :  Priya\n",
            "Welcome to the Game :  -\n"
          ]
        }
      ]
    },
    {
      "cell_type": "code",
      "source": [
        "def display(User=\"Guest\"):\n",
        "  print(\"Welcome to the Game : \"+User)\n",
        "display(\"Sridhar\")\n",
        "display(\"Sasi\")\n",
        "display(\"Abi\")\n",
        "display()\n",
        "display(\"Priya\")\n",
        "display()"
      ],
      "metadata": {
        "colab": {
          "base_uri": "https://localhost:8080/"
        },
        "id": "CLJG6KG92GM2",
        "outputId": "46fa0f3b-95ea-42cb-9ead-2275a27b7444"
      },
      "execution_count": 39,
      "outputs": [
        {
          "output_type": "stream",
          "name": "stdout",
          "text": [
            "Welcome to the Game : Sridhar\n",
            "Welcome to the Game : Sasi\n",
            "Welcome to the Game : Abi\n",
            "Welcome to the Game : Guest\n",
            "Welcome to the Game : Priya\n",
            "Welcome to the Game : Guest\n"
          ]
        }
      ]
    },
    {
      "cell_type": "code",
      "source": [
        "def factorial(n):\n",
        "  if n==1:\n",
        "    return 5\n",
        "  else:\n",
        "    return n*factorial(n-1)\n",
        "print(factorial(5))\n"
      ],
      "metadata": {
        "colab": {
          "base_uri": "https://localhost:8080/"
        },
        "id": "ZkHdeqHw2GFi",
        "outputId": "e55eb1ea-d125-4e3b-c4ad-afc66915e9e8"
      },
      "execution_count": 42,
      "outputs": [
        {
          "output_type": "stream",
          "name": "stdout",
          "text": [
            "600\n"
          ]
        }
      ]
    },
    {
      "cell_type": "code",
      "source": [
        "def factorial(n):\n",
        "  if n==1:\n",
        "    return 1\n",
        "  else:\n",
        "    return n*factorial(n-1)\n",
        "print(factorial(5))\n"
      ],
      "metadata": {
        "colab": {
          "base_uri": "https://localhost:8080/"
        },
        "id": "Yz8B5n1x2F1m",
        "outputId": "7fb07f47-a614-479c-b6c7-caedf9a248cc"
      },
      "execution_count": 43,
      "outputs": [
        {
          "output_type": "stream",
          "name": "stdout",
          "text": [
            "120\n"
          ]
        }
      ]
    },
    {
      "cell_type": "code",
      "source": [
        "def factorial(n):\n",
        "  if n==1:\n",
        "    return 0\n",
        "  else:\n",
        "    return n*factorial(n-1)\n",
        "print(factorial(5))\n"
      ],
      "metadata": {
        "colab": {
          "base_uri": "https://localhost:8080/"
        },
        "id": "H8CyCsiu58hn",
        "outputId": "d82fc994-a921-4d6a-bab6-b18852cdb299"
      },
      "execution_count": 46,
      "outputs": [
        {
          "output_type": "stream",
          "name": "stdout",
          "text": [
            "0\n"
          ]
        }
      ]
    },
    {
      "cell_type": "code",
      "source": [
        "# Sum of Natural Numbers using Recursion\n",
        "\n",
        "def sum(n):\n",
        "  if n==0:\n",
        "    return 0\n",
        "  else:\n",
        "    return n+sum(n-1)\n",
        "print(sum(5))"
      ],
      "metadata": {
        "colab": {
          "base_uri": "https://localhost:8080/"
        },
        "id": "wrS2AcQE5-8D",
        "outputId": "efada160-35f6-41a3-ad8c-cdc0fa071fa4"
      },
      "execution_count": 45,
      "outputs": [
        {
          "output_type": "stream",
          "name": "stdout",
          "text": [
            "15\n"
          ]
        }
      ]
    },
    {
      "cell_type": "code",
      "source": [
        "def sum(n):\n",
        "  if n==0:\n",
        "    return 1\n",
        "  else:\n",
        "    return n+sum(n-1)\n",
        "print(sum(5))"
      ],
      "metadata": {
        "colab": {
          "base_uri": "https://localhost:8080/"
        },
        "id": "MZMW22_m6LE2",
        "outputId": "40fe19b7-27c6-4970-bb01-960564ccf9a9"
      },
      "execution_count": 47,
      "outputs": [
        {
          "output_type": "stream",
          "name": "stdout",
          "text": [
            "16\n"
          ]
        }
      ]
    }
  ]
}