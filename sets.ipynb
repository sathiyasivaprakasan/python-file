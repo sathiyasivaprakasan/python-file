{
  "nbformat": 4,
  "nbformat_minor": 0,
  "metadata": {
    "colab": {
      "provenance": []
    },
    "kernelspec": {
      "name": "python3",
      "display_name": "Python 3"
    },
    "language_info": {
      "name": "python"
    }
  },
  "cells": [
    {
      "cell_type": "code",
      "execution_count": 3,
      "metadata": {
        "id": "BDM32Mw6KbJ6"
      },
      "outputs": [],
      "source": [
        "#sets- sets are used to store the multiple values in a single variable and set is a collections which is unordered , unindexed and unchangeable, no duplicates"
      ]
    },
    {
      "cell_type": "code",
      "source": [
        "ans={\"Python\",\"DA\",\"DV\"}\n",
        "print(ans)"
      ],
      "metadata": {
        "colab": {
          "base_uri": "https://localhost:8080/"
        },
        "id": "79Gp31UXKywx",
        "outputId": "c599d84b-acf7-4a3b-a11b-58959604e3b6"
      },
      "execution_count": 4,
      "outputs": [
        {
          "output_type": "stream",
          "name": "stdout",
          "text": [
            "{'DA', 'DV', 'Python'}\n"
          ]
        }
      ]
    },
    {
      "cell_type": "code",
      "source": [
        "ans={\"Python\",\"DA\",\"DV\",\"Excel\",\"BI\"}\n",
        "print(ans)\n",
        "print(type(ans))"
      ],
      "metadata": {
        "colab": {
          "base_uri": "https://localhost:8080/"
        },
        "id": "0rw0KN9ZK_oZ",
        "outputId": "8a8eb06a-3405-49b2-d246-286f033b1038"
      },
      "execution_count": 5,
      "outputs": [
        {
          "output_type": "stream",
          "name": "stdout",
          "text": [
            "{'BI', 'Python', 'DA', 'DV', 'Excel'}\n",
            "<class 'set'>\n"
          ]
        }
      ]
    },
    {
      "cell_type": "code",
      "source": [
        "ans={\"Python\",\"DA\",\"DS\",\"DV\",\"Excel\",\"BI\",\"DS\"}\n",
        "print(ans)"
      ],
      "metadata": {
        "colab": {
          "base_uri": "https://localhost:8080/"
        },
        "id": "BkoKjjE0LLNI",
        "outputId": "7b866374-96b5-4114-a46b-fb8be59531dd"
      },
      "execution_count": 6,
      "outputs": [
        {
          "output_type": "stream",
          "name": "stdout",
          "text": [
            "{'BI', 'Python', 'DS', 'DA', 'DV', 'Excel'}\n"
          ]
        }
      ]
    },
    {
      "cell_type": "code",
      "source": [
        "ans={\"Python\",\"DA\",\"DS\",\"DV\",\"Excel\",\"BI\",\"DS\"}\n",
        "print(len(ans))"
      ],
      "metadata": {
        "colab": {
          "base_uri": "https://localhost:8080/"
        },
        "id": "4cy6feAtLLHr",
        "outputId": "8008774c-d9a1-4fb4-cbad-f6527484b8d9"
      },
      "execution_count": 7,
      "outputs": [
        {
          "output_type": "stream",
          "name": "stdout",
          "text": [
            "6\n"
          ]
        }
      ]
    },
    {
      "cell_type": "code",
      "source": [
        "course={\"python\",25000,\"true\",\"DA\",40000,\"true\"}\n",
        "print(course)"
      ],
      "metadata": {
        "colab": {
          "base_uri": "https://localhost:8080/"
        },
        "id": "X96y45yPLLEO",
        "outputId": "44fd9d6a-3317-4198-8886-fb16f099bba8"
      },
      "execution_count": 8,
      "outputs": [
        {
          "output_type": "stream",
          "name": "stdout",
          "text": [
            "{40000, 25000, 'DA', 'python', 'true'}\n"
          ]
        }
      ]
    },
    {
      "cell_type": "code",
      "source": [
        "# set() Constructor\n",
        "\n",
        "answer=set((\"Python\", \"AI\", \"DS\", \"DV\", \"DA\"))\n",
        "print(answer)\n",
        "print(type(answer))\n",
        "print(len(answer))"
      ],
      "metadata": {
        "colab": {
          "base_uri": "https://localhost:8080/"
        },
        "id": "lVyzVURfLLBP",
        "outputId": "b7295c0b-04cb-4233-ba15-1a4fa314a09a"
      },
      "execution_count": 9,
      "outputs": [
        {
          "output_type": "stream",
          "name": "stdout",
          "text": [
            "{'Python', 'DA', 'AI', 'DS', 'DV'}\n",
            "<class 'set'>\n",
            "5\n"
          ]
        }
      ]
    },
    {
      "cell_type": "code",
      "source": [
        "ans={\"Python\",\"DA\",\"DS\",\"DV\",\"Excel\",\"BI\",\"DS\"}\n",
        "for b in ans:\n",
        "    print(b)"
      ],
      "metadata": {
        "colab": {
          "base_uri": "https://localhost:8080/"
        },
        "id": "ICjq3cT9LK-v",
        "outputId": "03b394c7-7b4f-4ba4-fbd9-d51a1a9823bd"
      },
      "execution_count": 10,
      "outputs": [
        {
          "output_type": "stream",
          "name": "stdout",
          "text": [
            "BI\n",
            "Python\n",
            "DS\n",
            "DA\n",
            "DV\n",
            "Excel\n"
          ]
        }
      ]
    },
    {
      "cell_type": "code",
      "source": [
        "ans={\"Python\",\"DA\",\"DS\",\"DV\",\"Excel\",\"BI\",\"DS\"}\n",
        "print(\"Python\" in ans)\n",
        "print(\"AI\" not in ans)"
      ],
      "metadata": {
        "colab": {
          "base_uri": "https://localhost:8080/"
        },
        "id": "6e_juuOkLK74",
        "outputId": "4fbf51c4-61a8-4631-db41-756db101d0ba"
      },
      "execution_count": 11,
      "outputs": [
        {
          "output_type": "stream",
          "name": "stdout",
          "text": [
            "True\n",
            "True\n"
          ]
        }
      ]
    },
    {
      "cell_type": "code",
      "source": [
        "ans={\"Python\",\"DA\",\"DS\",\"DV\",\"Excel\",\"BI\",\"DS\"}\n",
        "ans.add(\"AI\")\n",
        "ans.add(\"UI\")\n",
        "print(ans)"
      ],
      "metadata": {
        "colab": {
          "base_uri": "https://localhost:8080/"
        },
        "id": "nm6paHYULK5O",
        "outputId": "32c7df78-d56e-4d4c-c5c3-cf542dfb0079"
      },
      "execution_count": 12,
      "outputs": [
        {
          "output_type": "stream",
          "name": "stdout",
          "text": [
            "{'BI', 'UI', 'Python', 'DS', 'DA', 'DV', 'Excel', 'AI'}\n"
          ]
        }
      ]
    },
    {
      "cell_type": "code",
      "source": [
        "ans={\"Python\",\"DA\",\"DS\",\"DV\",\"Excel\",\"BI\",\"DS\"}\n",
        "ans.update([\"AI\",\"UI\",\"ML\"])\n",
        "print(ans)"
      ],
      "metadata": {
        "colab": {
          "base_uri": "https://localhost:8080/"
        },
        "id": "BzhG4fxGLK2b",
        "outputId": "68d16586-3dd1-4e88-da93-641ec26e4b9c"
      },
      "execution_count": 13,
      "outputs": [
        {
          "output_type": "stream",
          "name": "stdout",
          "text": [
            "{'UI', 'DS', 'Excel', 'BI', 'Python', 'DA', 'AI', 'DV', 'ML'}\n"
          ]
        }
      ]
    },
    {
      "cell_type": "code",
      "source": [
        "A1={\"Python\",\"DA\",\"DS\",\"DV\",\"Excel\",\"BI\",\"DS\"}\n",
        "A2={\"AI\",\"UI\",\"ML\"}\n",
        "A1.update(A2)\n",
        "print(A1)"
      ],
      "metadata": {
        "colab": {
          "base_uri": "https://localhost:8080/"
        },
        "id": "A4s0BDLbLKzx",
        "outputId": "3601bb96-b183-4ab7-86e7-f0f279e44556"
      },
      "execution_count": 14,
      "outputs": [
        {
          "output_type": "stream",
          "name": "stdout",
          "text": [
            "{'BI', 'UI', 'Python', 'DA', 'AI', 'DS', 'DV', 'Excel', 'ML'}\n"
          ]
        }
      ]
    },
    {
      "cell_type": "code",
      "source": [
        "A1={\"Python\",\"DA\",\"DS\",\"DV\",\"Excel\",\"AI\",\"UI\",\"ML\",\"BI\",\"DS\"}\n",
        "A2={\"AI\",\"UI\",\"ML\"}\n",
        "A1.update(A2)\n",
        "print(A1)"
      ],
      "metadata": {
        "colab": {
          "base_uri": "https://localhost:8080/"
        },
        "id": "6EhNa3yXLKxB",
        "outputId": "ce1fefb7-7d22-4760-b51f-b60200f7eed6"
      },
      "execution_count": 15,
      "outputs": [
        {
          "output_type": "stream",
          "name": "stdout",
          "text": [
            "{'BI', 'UI', 'Python', 'DA', 'AI', 'DS', 'DV', 'Excel', 'ML'}\n"
          ]
        }
      ]
    },
    {
      "cell_type": "code",
      "source": [
        "A1={\"Python\",\"DA\",\"DS\",\"DV\",\"Excel\",\"AI\",\"UI\",\"ML\",\"BI\",\"DS\"}\n",
        "A1.remove(\"AI\")\n",
        "print(A1)"
      ],
      "metadata": {
        "colab": {
          "base_uri": "https://localhost:8080/"
        },
        "id": "ovSXpk6RLKuR",
        "outputId": "20142edd-1581-46ab-e442-80c3cf360ab1"
      },
      "execution_count": 16,
      "outputs": [
        {
          "output_type": "stream",
          "name": "stdout",
          "text": [
            "{'BI', 'UI', 'Python', 'DA', 'DS', 'DV', 'Excel', 'ML'}\n"
          ]
        }
      ]
    },
    {
      "cell_type": "code",
      "source": [
        "A1={\"Python\",\"DA\",\"DS\",\"DV\",\"Excel\",\"AI\",\"UI\",\"ML\",\"BI\",\"DS\"}\n",
        "A1.remove(\"AI\")\n",
        "A1.remove(\"UI\")\n",
        "print(A1)"
      ],
      "metadata": {
        "colab": {
          "base_uri": "https://localhost:8080/"
        },
        "id": "hTsyet25LKrf",
        "outputId": "ea262e03-295a-401e-9451-def147f0f170"
      },
      "execution_count": 17,
      "outputs": [
        {
          "output_type": "stream",
          "name": "stdout",
          "text": [
            "{'BI', 'Python', 'DA', 'DS', 'DV', 'Excel', 'ML'}\n"
          ]
        }
      ]
    },
    {
      "cell_type": "code",
      "source": [
        "A1={\"Python\",\"DA\",\"DS\",\"DV\",\"Excel\",\"AI\",\"UI\",\"ML\",\"BI\",\"DS\"}\n",
        "A1.discard(\"AI\")\n",
        "print(A1)"
      ],
      "metadata": {
        "colab": {
          "base_uri": "https://localhost:8080/"
        },
        "id": "mfqTMmuoLKo4",
        "outputId": "b4f63c28-4a5c-4a28-8ed4-d1b70edc2e26"
      },
      "execution_count": 18,
      "outputs": [
        {
          "output_type": "stream",
          "name": "stdout",
          "text": [
            "{'BI', 'UI', 'Python', 'DA', 'DS', 'DV', 'Excel', 'ML'}\n"
          ]
        }
      ]
    },
    {
      "cell_type": "code",
      "source": [
        "A1={\"Python\",\"DA\",\"DS\",\"DV\",\"Excel\",\"AI\",\"UI\",\"ML\",\"BI\",\"DS\"}\n",
        "A1.pop()\n",
        "A1.pop()\n",
        "print(A1)"
      ],
      "metadata": {
        "colab": {
          "base_uri": "https://localhost:8080/"
        },
        "id": "cMiEyLRbLKlw",
        "outputId": "6089952e-0168-4dc3-d6cb-6d0fd2223a87"
      },
      "execution_count": 19,
      "outputs": [
        {
          "output_type": "stream",
          "name": "stdout",
          "text": [
            "{'Python', 'DA', 'AI', 'DS', 'DV', 'Excel', 'ML'}\n"
          ]
        }
      ]
    },
    {
      "cell_type": "code",
      "source": [
        "A1={\"Python\",\"DA\",\"DS\",\"DV\",\"Excel\",\"AI\",\"UI\",\"ML\",\"BI\",\"DS\"}\n",
        "A1.clear()\n",
        "print(A1)"
      ],
      "metadata": {
        "colab": {
          "base_uri": "https://localhost:8080/"
        },
        "id": "myC9nPaVOZie",
        "outputId": "9e5a9012-ca4a-499d-d2e9-12e5d97fd70c"
      },
      "execution_count": 20,
      "outputs": [
        {
          "output_type": "stream",
          "name": "stdout",
          "text": [
            "set()\n"
          ]
        }
      ]
    },
    {
      "cell_type": "code",
      "source": [
        "# Join Set - union() and update(), intersection(), difference(), symmetric_difference()\n",
        "\n",
        "A1={\"Python\", \"SQL\", \"Excel\", \"BI\",\"DV\",\"DA\"}\n",
        "A2={7000, 10000, 6000, 30000}\n",
        "\n",
        "answer=A1.union(A2)\n",
        "print(answer)"
      ],
      "metadata": {
        "colab": {
          "base_uri": "https://localhost:8080/"
        },
        "id": "CsZH10AxOyzv",
        "outputId": "9a13989a-c20a-4dbe-b341-888e9ce2671f"
      },
      "execution_count": 21,
      "outputs": [
        {
          "output_type": "stream",
          "name": "stdout",
          "text": [
            "{'BI', 'Python', 'DA', 'SQL', 10000, 30000, 6000, 7000, 'DV', 'Excel'}\n"
          ]
        }
      ]
    },
    {
      "cell_type": "code",
      "source": [
        "A1={\"Python\", \"SQL\", \"Excel\", \"BI\",\"DV\",\"DA\"}\n",
        "A2={7000, 10000, 6000, 30000}\n",
        "\n",
        "A1.update(A2)\n",
        "print(A1)"
      ],
      "metadata": {
        "colab": {
          "base_uri": "https://localhost:8080/"
        },
        "id": "KQ_BtH47OywU",
        "outputId": "e8ed8655-3718-4686-bf2f-bb44ebc93dc6"
      },
      "execution_count": 22,
      "outputs": [
        {
          "output_type": "stream",
          "name": "stdout",
          "text": [
            "{'BI', 'Python', 'DA', 'SQL', 10000, 30000, 6000, 7000, 'DV', 'Excel'}\n"
          ]
        }
      ]
    },
    {
      "cell_type": "code",
      "source": [
        "A1={\"Python\", \"SQL\", \"Excel\", \"Pwer BI\"}\n",
        "A2={7000, 10000, 6000, 30000}\n",
        "\n",
        "answer=S1|S2\n",
        "print(answer)"
      ],
      "metadata": {
        "colab": {
          "base_uri": "https://localhost:8080/"
        },
        "id": "LJsn2A3YOytf",
        "outputId": "96e35f08-ce54-41c4-eb91-dcc758b82570"
      },
      "execution_count": 23,
      "outputs": [
        {
          "output_type": "stream",
          "name": "stdout",
          "text": [
            "{0, 1, 'cherry', 'microsoft', 'apple', 'banana', 'google'}\n"
          ]
        }
      ]
    },
    {
      "cell_type": "code",
      "source": [
        "S1={\"Python\", \"SQL\", \"Excel\", \"Pwer BI\"}\n",
        "S2={7000, 10000, 6000, 30000}\n",
        "S3={\"Python using AI\", \"Java\", \"React JS\", \"Redux\"}\n",
        "S4={\"IT Company\", \"MNC Company\"}\n",
        "\n",
        "answer=S1 | S2 | S3 | S4\n",
        "print(answer)"
      ],
      "metadata": {
        "colab": {
          "base_uri": "https://localhost:8080/"
        },
        "id": "gpXvymPlOyqo",
        "outputId": "c2bf1c32-66a5-4276-c390-086268c400ba"
      },
      "execution_count": 24,
      "outputs": [
        {
          "output_type": "stream",
          "name": "stdout",
          "text": [
            "{'Pwer BI', 'Redux', 'Python', 'React JS', 'SQL', 'MNC Company', 10000, 30000, 6000, 'Python using AI', 7000, 'IT Company', 'Excel', 'Java'}\n"
          ]
        }
      ]
    },
    {
      "cell_type": "code",
      "source": [
        "S1={\"apple\", \"banana\", \"cherry\",1,0,True, False}\n",
        "S2={\"google\", \"microsoft\", \"apple\",1,0,True, False}\n",
        "\n",
        "answer=S1.symmetric_difference(S2)\n",
        "print(answer)"
      ],
      "metadata": {
        "colab": {
          "base_uri": "https://localhost:8080/"
        },
        "id": "KqyxvOfPOyoA",
        "outputId": "7533a7cf-958f-4ac1-8c14-7a72c5dbda1c"
      },
      "execution_count": 28,
      "outputs": [
        {
          "output_type": "stream",
          "name": "stdout",
          "text": [
            "{'cherry', 'banana', 'google', 'microsoft'}\n"
          ]
        }
      ]
    },
    {
      "cell_type": "code",
      "source": [
        "S1={\"apple\", \"banana\", \"cherry\",1,0,True, False}\n",
        "S2={\"google\", \"microsoft\", \"apple\",1,0,True, False}\n",
        "\n",
        "# answer=S1.symmetric_difference(S2)\n",
        "# print(answer)"
      ],
      "metadata": {
        "id": "2gK9RjTFOylK"
      },
      "execution_count": 29,
      "outputs": []
    },
    {
      "cell_type": "code",
      "source": [
        "S1={\"apple\", \"banana\", \"cherry\",1,0,True, False}\n",
        "S2={\"google\", \"microsoft\", \"apple\",1,0,True, False}\n",
        "\n",
        "answer=S1-S2\n",
        "print(answer)"
      ],
      "metadata": {
        "colab": {
          "base_uri": "https://localhost:8080/"
        },
        "id": "5rf5UTkBOyiR",
        "outputId": "9a958184-8bf4-4b26-bf20-86f4622a22e8"
      },
      "execution_count": 25,
      "outputs": [
        {
          "output_type": "stream",
          "name": "stdout",
          "text": [
            "{'cherry', 'banana'}\n"
          ]
        }
      ]
    },
    {
      "cell_type": "code",
      "source": [
        "S1={\"apple\", \"banana\", \"cherry\",1,0,True, False}\n",
        "S2={\"google\", \"microsoft\", \"apple\",1,0,True, False}\n",
        "\n",
        "answer=S1.difference(S2)\n",
        "print(answer)"
      ],
      "metadata": {
        "colab": {
          "base_uri": "https://localhost:8080/"
        },
        "id": "u0DpeBNJOyff",
        "outputId": "66169450-f65c-4430-900e-c1bea0fb7298"
      },
      "execution_count": 26,
      "outputs": [
        {
          "output_type": "stream",
          "name": "stdout",
          "text": [
            "{'cherry', 'banana'}\n"
          ]
        }
      ]
    },
    {
      "cell_type": "code",
      "source": [
        "S1={\"apple\", \"banana\", \"cherry\",1,0,True, False}\n",
        "S2={\"google\", \"microsoft\", \"apple\",1,0,True, False}\n",
        "\n",
        "answer=S1.symmetric_difference(S2)\n",
        "print(answer)"
      ],
      "metadata": {
        "colab": {
          "base_uri": "https://localhost:8080/"
        },
        "id": "VDKQvpGWOyc2",
        "outputId": "284e5ad7-1c51-4c8b-c903-ad3e7752663c"
      },
      "execution_count": 30,
      "outputs": [
        {
          "output_type": "stream",
          "name": "stdout",
          "text": [
            "{'cherry', 'banana', 'google', 'microsoft'}\n"
          ]
        }
      ]
    },
    {
      "cell_type": "code",
      "source": [
        "S1={\"apple\", \"banana\", \"cherry\",1,0,True, False}\n",
        "\n",
        "answer=S1.copy()\n",
        "print(answer)"
      ],
      "metadata": {
        "colab": {
          "base_uri": "https://localhost:8080/"
        },
        "id": "_3IR4TAgOyaQ",
        "outputId": "3197fc1e-cff6-4dc5-c8a3-3a7eec176488"
      },
      "execution_count": 31,
      "outputs": [
        {
          "output_type": "stream",
          "name": "stdout",
          "text": [
            "{0, 1, 'cherry', 'banana', 'apple'}\n"
          ]
        }
      ]
    },
    {
      "cell_type": "code",
      "source": [
        "person={\n",
        "    \"Name\":\"sathiya\",\n",
        "    \"Age\":22,\n",
        "    \"Year\":2003,\n",
        "    \"location\":\"salem\"\n",
        "}\n",
        "print(person)\n",
        "print(type(person))\n",
        "print(len(person))"
      ],
      "metadata": {
        "colab": {
          "base_uri": "https://localhost:8080/"
        },
        "id": "rpGmeWsMOyXn",
        "outputId": "bfbcf08d-dc48-436f-f26a-0538b142df47"
      },
      "execution_count": 34,
      "outputs": [
        {
          "output_type": "stream",
          "name": "stdout",
          "text": [
            "{'Name': 'sathiya', 'Age': 22, 'Year': 2003, 'location': 'salem'}\n",
            "<class 'dict'>\n",
            "4\n"
          ]
        }
      ]
    },
    {
      "cell_type": "code",
      "source": [
        "a=10\n",
        "a=5\n",
        "print(a)"
      ],
      "metadata": {
        "colab": {
          "base_uri": "https://localhost:8080/"
        },
        "id": "Jk-opXE9OyUy",
        "outputId": "a93a0a0e-3476-4f97-ae69-3cddd4dace03"
      },
      "execution_count": 35,
      "outputs": [
        {
          "output_type": "stream",
          "name": "stdout",
          "text": [
            "5\n"
          ]
        }
      ]
    }
  ]
}